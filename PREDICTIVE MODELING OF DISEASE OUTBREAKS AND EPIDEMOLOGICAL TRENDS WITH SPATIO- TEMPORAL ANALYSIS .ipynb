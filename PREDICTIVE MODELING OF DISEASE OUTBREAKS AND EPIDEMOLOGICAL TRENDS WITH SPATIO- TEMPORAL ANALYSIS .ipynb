{
  "metadata": {
    "kernelspec": {
      "language": "python",
      "display_name": "Python 3",
      "name": "python3"
    },
    "language_info": {
      "pygments_lexer": "ipython3",
      "nbconvert_exporter": "python",
      "version": "3.6.4",
      "file_extension": ".py",
      "codemirror_mode": {
        "name": "ipython",
        "version": 3
      },
      "name": "python",
      "mimetype": "text/x-python"
    },
    "kaggle": {
      "accelerator": "none",
      "dataSources": [
        {
          "sourceId": 1310259,
          "sourceType": "datasetVersion",
          "datasetId": 758684
        }
      ],
      "dockerImageVersionId": 30008,
      "isInternetEnabled": false,
      "language": "python",
      "sourceType": "notebook",
      "isGpuEnabled": false
    },
    "colab": {
      "name": "notebookd6c66d9fa2",
      "provenance": [],
      "include_colab_link": true
    }
  },
  "nbformat_minor": 0,
  "nbformat": 4,
  "cells": [
    {
      "cell_type": "markdown",
      "metadata": {
        "id": "view-in-github",
        "colab_type": "text"
      },
      "source": [
        "<a href=\"https://colab.research.google.com/github/9789604858/TNDSC_Generative-AI/blob/main/PREDICTIVE%20MODELING%20OF%20DISEASE%20OUTBREAKS%20AND%20EPIDEMOLOGICAL%20TRENDS%20WITH%20SPATIO-%20TEMPORAL%20ANALYSIS%20.ipynb\" target=\"_parent\"><img src=\"https://colab.research.google.com/assets/colab-badge.svg\" alt=\"Open In Colab\"/></a>"
      ]
    },
    {
      "source": [
        "# IMPORTANT: RUN THIS CELL IN ORDER TO IMPORT YOUR KAGGLE DATA SOURCES\n",
        "# TO THE CORRECT LOCATION (/kaggle/input) IN YOUR NOTEBOOK,\n",
        "# THEN FEEL FREE TO DELETE THIS CELL.\n",
        "# NOTE: THIS NOTEBOOK ENVIRONMENT DIFFERS FROM KAGGLE'S PYTHON\n",
        "# ENVIRONMENT SO THERE MAY BE MISSING LIBRARIES USED BY YOUR\n",
        "# NOTEBOOK.\n",
        "\n",
        "import os\n",
        "import sys\n",
        "from tempfile import NamedTemporaryFile\n",
        "from urllib.request import urlopen\n",
        "from urllib.parse import unquote, urlparse\n",
        "from urllib.error import HTTPError\n",
        "from zipfile import ZipFile\n",
        "import tarfile\n",
        "import shutil\n",
        "\n",
        "CHUNK_SIZE = 40960\n",
        "DATA_SOURCE_MAPPING = 'covid19:https%3A%2F%2Fstorage.googleapis.com%2Fkaggle-data-sets%2F758684%2F1310259%2Fbundle%2Farchive.zip%3FX-Goog-Algorithm%3DGOOG4-RSA-SHA256%26X-Goog-Credential%3Dgcp-kaggle-com%2540kaggle-161607.iam.gserviceaccount.com%252F20240330%252Fauto%252Fstorage%252Fgoog4_request%26X-Goog-Date%3D20240330T035408Z%26X-Goog-Expires%3D259200%26X-Goog-SignedHeaders%3Dhost%26X-Goog-Signature%3D63fa55534eb80556699c72f600c39c7740b7f1354482d6ec6d88b18806c3eef27715ae45086cd03d35b344608ce23fb3d0018676068a1c7663ef89658a3ca1631cfd9a283e76aed46a3247c021c77027e1fdb4ac31316fcf8cc78ccd91eef025acae2a5c67a5f22016da0db4e0a7cc20446c1d8d851aa6eeac4f9e263de619c4019aa6faaf6314a5db181430fb020af7e85df8c9a38d74a7c9e7cc117f9d4cf1a3e92164b51dc5d39c81ac2d8b8ce7f5222fb3ed1a5a9142722c0180320f9f1d90b4eb76df265623b682d06da75a35c649fbad193fe029aa5754f07e93fcd565fccd4c4a2b5f89c45018bec8d818c4035280410eba76343a4d56148267946bc7'\n",
        "\n",
        "KAGGLE_INPUT_PATH='/kaggle/input'\n",
        "KAGGLE_WORKING_PATH='/kaggle/working'\n",
        "KAGGLE_SYMLINK='kaggle'\n",
        "\n",
        "!umount /kaggle/input/ 2> /dev/null\n",
        "shutil.rmtree('/kaggle/input', ignore_errors=True)\n",
        "os.makedirs(KAGGLE_INPUT_PATH, 0o777, exist_ok=True)\n",
        "os.makedirs(KAGGLE_WORKING_PATH, 0o777, exist_ok=True)\n",
        "\n",
        "try:\n",
        "  os.symlink(KAGGLE_INPUT_PATH, os.path.join(\"..\", 'input'), target_is_directory=True)\n",
        "except FileExistsError:\n",
        "  pass\n",
        "try:\n",
        "  os.symlink(KAGGLE_WORKING_PATH, os.path.join(\"..\", 'working'), target_is_directory=True)\n",
        "except FileExistsError:\n",
        "  pass\n",
        "\n",
        "for data_source_mapping in DATA_SOURCE_MAPPING.split(','):\n",
        "    directory, download_url_encoded = data_source_mapping.split(':')\n",
        "    download_url = unquote(download_url_encoded)\n",
        "    filename = urlparse(download_url).path\n",
        "    destination_path = os.path.join(KAGGLE_INPUT_PATH, directory)\n",
        "    try:\n",
        "        with urlopen(download_url) as fileres, NamedTemporaryFile() as tfile:\n",
        "            total_length = fileres.headers['content-length']\n",
        "            print(f'Downloading {directory}, {total_length} bytes compressed')\n",
        "            dl = 0\n",
        "            data = fileres.read(CHUNK_SIZE)\n",
        "            while len(data) > 0:\n",
        "                dl += len(data)\n",
        "                tfile.write(data)\n",
        "                done = int(50 * dl / int(total_length))\n",
        "                sys.stdout.write(f\"\\r[{'=' * done}{' ' * (50-done)}] {dl} bytes downloaded\")\n",
        "                sys.stdout.flush()\n",
        "                data = fileres.read(CHUNK_SIZE)\n",
        "            if filename.endswith('.zip'):\n",
        "              with ZipFile(tfile) as zfile:\n",
        "                zfile.extractall(destination_path)\n",
        "            else:\n",
        "              with tarfile.open(tfile.name) as tarfile:\n",
        "                tarfile.extractall(destination_path)\n",
        "            print(f'\\nDownloaded and uncompressed: {directory}')\n",
        "    except HTTPError as e:\n",
        "        print(f'Failed to load (likely expired) {download_url} to path {destination_path}')\n",
        "        continue\n",
        "    except OSError as e:\n",
        "        print(f'Failed to load {download_url} to path {destination_path}')\n",
        "        continue\n",
        "\n",
        "print('Data source import complete.')\n"
      ],
      "metadata": {
        "id": "mckOzmqTeUcj"
      },
      "cell_type": "code",
      "outputs": [],
      "execution_count": null
    },
    {
      "cell_type": "markdown",
      "source": [
        "# <center> Covid 19 Data Analysis </center>\n",
        "<center>\n",
        "  <img src=\"https://www.iotworldtoday.com/files/2020/03/coronavirus-crisis-management.jpg\" />\n",
        "</center>\n",
        "<!-- <img src=\"https://www.iotworldtoday.com/files/2020/03/coronavirus-crisis-management.jpg\" style=\"float: center;\"/>\n",
        " -->\n",
        "\n",
        "</n>\n",
        "Coronavirus disease (COVID-19) is an infectious disease caused by the SARS-CoV-2 virus. Most people who fall sick with COVID-19 will experience mild to moderate symptoms and recover without special treatment. However, some will become seriously ill and require medical attention. It stuck to the world and left a scathing mark.\n",
        "\n",
        "In this analysis, I'll show the effect of the virus on several countries. The data I used in this analysis was gotten from the <a href='https://covid19.who.int/data'>WHO database</a>"
      ],
      "metadata": {
        "id": "7JuS5ThieUcr"
      }
    },
    {
      "cell_type": "markdown",
      "source": [
        "### Let's Import the modules\n",
        "\n",
        "We will start by importing some useful `Python` `libraries`. ***Numpy*** and ***Pandas***  are for performing mathematical operations and manipulating data; We will start by importing some useful Python libraries. Tabulate is a Pandas series and dataframe pretty-printing library; ***Seaborn*** and ***Matplolib*** are visualisation libraries for creating informative visuals."
      ],
      "metadata": {
        "id": "qyyCpc5seUdD"
      }
    },
    {
      "cell_type": "code",
      "source": [
        "import pandas as pd\n",
        "import numpy as np\n",
        "import seaborn as sns\n",
        "import matplotlib.pyplot as plt\n",
        "from tabulate import tabulate\n",
        "import warnings\n",
        "warnings.filterwarnings('ignore')"
      ],
      "metadata": {
        "execution": {
          "iopub.status.busy": "2022-12-18T00:02:37.32696Z",
          "iopub.execute_input": "2022-12-18T00:02:37.327649Z",
          "iopub.status.idle": "2022-12-18T00:02:37.740502Z",
          "shell.execute_reply.started": "2022-12-18T00:02:37.327607Z",
          "shell.execute_reply": "2022-12-18T00:02:37.739118Z"
        },
        "trusted": true,
        "id": "CqGnzDJ9eUdF"
      },
      "execution_count": null,
      "outputs": []
    },
    {
      "cell_type": "markdown",
      "source": [
        "## INITIAL EXPLORATION\n",
        "\n",
        "Importing daily cases and deaths by date reported to WHO"
      ],
      "metadata": {
        "id": "CaJsykjXeUdG"
      }
    },
    {
      "cell_type": "code",
      "source": [
        "df=pd.read_csv('https://covid19.who.int/WHO-COVID-19-global-data.csv')\n",
        "\n",
        "# df=pd.read_csv(\"../input/covid19/covid19_Confirmed_dataset.csv\")\n",
        "df.head()"
      ],
      "metadata": {
        "execution": {
          "iopub.status.busy": "2022-12-18T00:02:37.743705Z",
          "iopub.execute_input": "2022-12-18T00:02:37.74413Z",
          "iopub.status.idle": "2022-12-18T00:02:39.313802Z",
          "shell.execute_reply.started": "2022-12-18T00:02:37.744095Z",
          "shell.execute_reply": "2022-12-18T00:02:39.312671Z"
        },
        "trusted": true,
        "id": "-vAyd28UeUdH"
      },
      "execution_count": null,
      "outputs": []
    },
    {
      "cell_type": "markdown",
      "source": [
        "## Data Description\n",
        "\n",
        "- `Date_reported` : Date of reporting to WHO\n",
        "- `Country_code`: String\tISO Alpha-2 country code\n",
        "- `Country`\tString\tCountry, territory, area\n",
        "- `WHO_region`\tString\tWHO regional offices: WHO Member States are grouped into six WHO regions -- Regional Office for Africa (AFRO), Regional Office for the Americas (AMRO), Regional Office for South-East Asia (SEARO), Regional Office for Europe (EURO), Regional Office for the Eastern Mediterranean (EMRO), and Regional Office for the Western Pacific (WPRO).\n",
        "- `New_cases`\tInteger \tNew confirmed cases. Calculated by subtracting previous cumulative case count from current cumulative cases count.*\n",
        "- `Cumulative_cases`\tInteger\tCumulative confirmed cases reported to WHO to date.\n",
        "- `New_deaths`\tInteger\tNew confirmed deaths. Calculated by subtracting previous cumulative deaths from current cumulative deaths.*\n",
        "- `Cumulative_deaths`\tInteger\tCumulative confirmed deaths reported to WHO to date."
      ],
      "metadata": {
        "id": "vkaTVWOBeUdI"
      }
    },
    {
      "cell_type": "code",
      "source": [
        "df.describe()"
      ],
      "metadata": {
        "execution": {
          "iopub.status.busy": "2022-12-18T00:02:39.315762Z",
          "iopub.execute_input": "2022-12-18T00:02:39.316241Z",
          "iopub.status.idle": "2022-12-18T00:02:39.384321Z",
          "shell.execute_reply.started": "2022-12-18T00:02:39.316194Z",
          "shell.execute_reply": "2022-12-18T00:02:39.383222Z"
        },
        "trusted": true,
        "id": "_ACQn9g3eUdI"
      },
      "execution_count": null,
      "outputs": []
    },
    {
      "cell_type": "code",
      "source": [
        "df.info()"
      ],
      "metadata": {
        "execution": {
          "iopub.status.busy": "2022-12-18T00:02:39.386328Z",
          "iopub.execute_input": "2022-12-18T00:02:39.386774Z",
          "iopub.status.idle": "2022-12-18T00:02:39.448859Z",
          "shell.execute_reply.started": "2022-12-18T00:02:39.386727Z",
          "shell.execute_reply": "2022-12-18T00:02:39.447781Z"
        },
        "trusted": true,
        "id": "bhQ6li5keUdJ"
      },
      "execution_count": null,
      "outputs": []
    },
    {
      "cell_type": "code",
      "source": [
        "df.shape"
      ],
      "metadata": {
        "execution": {
          "iopub.status.busy": "2022-12-18T00:02:39.452468Z",
          "iopub.execute_input": "2022-12-18T00:02:39.452798Z",
          "iopub.status.idle": "2022-12-18T00:02:39.460328Z",
          "shell.execute_reply.started": "2022-12-18T00:02:39.452766Z",
          "shell.execute_reply": "2022-12-18T00:02:39.458842Z"
        },
        "trusted": true,
        "id": "hI4Ea9x_eUdK"
      },
      "execution_count": null,
      "outputs": []
    },
    {
      "cell_type": "code",
      "source": [
        "df.describe(include='all')"
      ],
      "metadata": {
        "execution": {
          "iopub.status.busy": "2022-12-18T00:02:39.462249Z",
          "iopub.execute_input": "2022-12-18T00:02:39.462632Z",
          "iopub.status.idle": "2022-12-18T00:02:39.685182Z",
          "shell.execute_reply.started": "2022-12-18T00:02:39.462599Z",
          "shell.execute_reply": "2022-12-18T00:02:39.683752Z"
        },
        "trusted": true,
        "id": "J6ciKBR5eUdK"
      },
      "execution_count": null,
      "outputs": []
    },
    {
      "cell_type": "markdown",
      "source": [
        "## Initial Notes\n",
        "\n",
        "- The dataset comprises 254064 rows and 8 columns.\n",
        "- Just one of those columns (`Country_code`) contains about `1142` missing datas\n",
        "- Date data `(Date_reported)` are stored as object data instead of datetime or numerical data and it contains about 1072 unique datas\n",
        "\n",
        "## Objectives\n",
        "I'd be moving forward with the following rows and columns and I'd be answering the following question\n",
        "- What `countries` have the highest number of new cases and death\n",
        "- What `countries` have the highest number of cumulative cases and deaths\n",
        "- What `WHO_region` which also signifies each continent are mostly affected\n",
        "- Using the vaccination information also to answer likely causes of why the countries have the most deaths"
      ],
      "metadata": {
        "id": "R0LGLV58eUdL"
      }
    },
    {
      "cell_type": "markdown",
      "source": [
        "## Removing Unwanted Columns and Converting the date from object to datetime format\n",
        "`Country_code` seems to be the same with the country itsef so i am going to drop the country code and converting the `Date_reported` column from object to datetime format to enable me remove the year since that's all i want to deal with"
      ],
      "metadata": {
        "id": "jc2OoT_YeUdL"
      }
    },
    {
      "cell_type": "code",
      "source": [
        "df['Date_reported'] = pd.to_datetime(df['Date_reported'], errors='coerce')\n"
      ],
      "metadata": {
        "execution": {
          "iopub.status.busy": "2022-12-18T00:02:39.686719Z",
          "iopub.execute_input": "2022-12-18T00:02:39.687068Z",
          "iopub.status.idle": "2022-12-18T00:02:39.738723Z",
          "shell.execute_reply.started": "2022-12-18T00:02:39.687035Z",
          "shell.execute_reply": "2022-12-18T00:02:39.737448Z"
        },
        "trusted": true,
        "id": "kMmXpgaxeUdM"
      },
      "execution_count": null,
      "outputs": []
    },
    {
      "cell_type": "code",
      "source": [
        "df['year'] = df['Date_reported'].dt.year"
      ],
      "metadata": {
        "execution": {
          "iopub.status.busy": "2022-12-18T00:02:39.740697Z",
          "iopub.execute_input": "2022-12-18T00:02:39.741088Z",
          "iopub.status.idle": "2022-12-18T00:02:39.774964Z",
          "shell.execute_reply.started": "2022-12-18T00:02:39.74105Z",
          "shell.execute_reply": "2022-12-18T00:02:39.773567Z"
        },
        "trusted": true,
        "id": "f0HWCO7WeUdM"
      },
      "execution_count": null,
      "outputs": []
    },
    {
      "cell_type": "code",
      "source": [
        "df.drop(['Country_code','Date_reported'],axis=1,inplace=True)\n",
        "df.head(10)"
      ],
      "metadata": {
        "execution": {
          "iopub.status.busy": "2022-12-18T00:02:39.776831Z",
          "iopub.execute_input": "2022-12-18T00:02:39.777188Z",
          "iopub.status.idle": "2022-12-18T00:02:39.822432Z",
          "shell.execute_reply.started": "2022-12-18T00:02:39.777154Z",
          "shell.execute_reply": "2022-12-18T00:02:39.821206Z"
        },
        "trusted": true,
        "id": "gTQV6c8EeUdN"
      },
      "execution_count": null,
      "outputs": []
    },
    {
      "cell_type": "code",
      "source": [
        "df['Country'].unique()"
      ],
      "metadata": {
        "execution": {
          "iopub.status.busy": "2022-12-18T00:02:39.824077Z",
          "iopub.execute_input": "2022-12-18T00:02:39.824424Z",
          "iopub.status.idle": "2022-12-18T00:02:39.852294Z",
          "shell.execute_reply.started": "2022-12-18T00:02:39.824382Z",
          "shell.execute_reply": "2022-12-18T00:02:39.851065Z"
        },
        "trusted": true,
        "id": "nEI-6H54eUdN"
      },
      "execution_count": null,
      "outputs": []
    },
    {
      "cell_type": "markdown",
      "source": [
        "## Analysis Of Data\n",
        "\n",
        "Flitering the data to better understand  and answer the question.\n",
        "\n",
        "The data will be sorted in this analysis from the nation with the most COVID-19 cases to the nation with the fewest. The nation with the highest fatalities will be identified as we continue our investigation. We will identify the nations in our study that do the best the best job of preventing the epidemic from spreading."
      ],
      "metadata": {
        "id": "T9JI7Dt6eUdO"
      }
    },
    {
      "cell_type": "markdown",
      "source": [
        "### Countries with most cumulative covid 19 cases\n",
        "\n",
        "From the nation with the most COVID-19 cases to the nation with the fewest, the countries are ranked here. Then, we will determine the causes behind each nation's amassing of such numbers."
      ],
      "metadata": {
        "id": "YCG25PBoeUdO"
      }
    },
    {
      "cell_type": "code",
      "source": [
        "covid_Cumulative_cases = pd.DataFrame(df.groupby(\"Country\")['Cumulative_cases']\n",
        "                               .agg('sum')).sort_values(by='Cumulative_cases',ascending=False,axis=0)\n",
        "\n",
        "covid_Cumulative_cases.head()"
      ],
      "metadata": {
        "execution": {
          "iopub.status.busy": "2022-12-18T00:02:39.854359Z",
          "iopub.execute_input": "2022-12-18T00:02:39.854801Z",
          "iopub.status.idle": "2022-12-18T00:02:39.895287Z",
          "shell.execute_reply.started": "2022-12-18T00:02:39.854752Z",
          "shell.execute_reply": "2022-12-18T00:02:39.89418Z"
        },
        "trusted": true,
        "id": "e-IMoTw4eUdP"
      },
      "execution_count": null,
      "outputs": []
    },
    {
      "cell_type": "code",
      "source": [
        "covid_Cumulative_cases.head(10).plot(kind='bar',  xlabel = 'Country', ylabel = 'No. of Cumulative cases (Millions)',title = 'Cumulative Covid19 Cases')\n",
        "plt.show()\n"
      ],
      "metadata": {
        "execution": {
          "iopub.status.busy": "2022-12-18T00:02:39.897043Z",
          "iopub.execute_input": "2022-12-18T00:02:39.897375Z",
          "iopub.status.idle": "2022-12-18T00:02:40.112058Z",
          "shell.execute_reply.started": "2022-12-18T00:02:39.897344Z",
          "shell.execute_reply": "2022-12-18T00:02:40.110755Z"
        },
        "trusted": true,
        "id": "_uHw7NQteUdP"
      },
      "execution_count": null,
      "outputs": []
    },
    {
      "cell_type": "markdown",
      "source": [
        "## Countries with the least covid19 cases"
      ],
      "metadata": {
        "id": "PNw2oQGZeUdQ"
      }
    },
    {
      "cell_type": "code",
      "source": [
        "covid_Cumulative_least_cases = pd.DataFrame(df.groupby(\"Country\")['Cumulative_cases']\n",
        "                               .agg('sum')).sort_values(by='Cumulative_cases',ascending=True,axis=0)\n",
        "\n",
        "covid_Cumulative_least_cases.head(20)"
      ],
      "metadata": {
        "execution": {
          "iopub.status.busy": "2022-12-18T00:02:40.113575Z",
          "iopub.execute_input": "2022-12-18T00:02:40.113886Z",
          "iopub.status.idle": "2022-12-18T00:02:40.155598Z",
          "shell.execute_reply.started": "2022-12-18T00:02:40.113857Z",
          "shell.execute_reply": "2022-12-18T00:02:40.154058Z"
        },
        "trusted": true,
        "id": "cVSBJgb4eUdQ"
      },
      "execution_count": null,
      "outputs": []
    },
    {
      "cell_type": "code",
      "source": [
        "covid_Cumulative_least_cases.head(10).plot(kind='bar',  xlabel = 'Country', ylabel = 'No. of Cumulative cases (Millions)',title = 'No of Cumulative cases')\n",
        "plt.show()\n"
      ],
      "metadata": {
        "execution": {
          "iopub.status.busy": "2022-12-18T00:02:40.157779Z",
          "iopub.execute_input": "2022-12-18T00:02:40.158297Z",
          "iopub.status.idle": "2022-12-18T00:02:40.374324Z",
          "shell.execute_reply.started": "2022-12-18T00:02:40.158246Z",
          "shell.execute_reply": "2022-12-18T00:02:40.373229Z"
        },
        "trusted": true,
        "id": "vGT96Vt9eUdQ"
      },
      "execution_count": null,
      "outputs": []
    },
    {
      "cell_type": "code",
      "source": [
        "covid_new_cases = pd.DataFrame(df.groupby(\"Country\")['New_cases']\n",
        "                               .agg('sum')).sort_values(by='New_cases',ascending=False,axis=0)\n",
        "\n",
        "covid_new_cases.head()"
      ],
      "metadata": {
        "execution": {
          "iopub.status.busy": "2022-12-18T00:02:40.376167Z",
          "iopub.execute_input": "2022-12-18T00:02:40.376545Z",
          "iopub.status.idle": "2022-12-18T00:02:40.417107Z",
          "shell.execute_reply.started": "2022-12-18T00:02:40.376507Z",
          "shell.execute_reply": "2022-12-18T00:02:40.416035Z"
        },
        "trusted": true,
        "id": "1QWYTFcVeUdR"
      },
      "execution_count": null,
      "outputs": []
    },
    {
      "cell_type": "code",
      "source": [
        "covid_new_cases.head(10).plot(kind='bar',  xlabel = 'Country', ylabel = 'No. of New_cases',title = 'New Covid19 cases Recorded', figsize=(15,10))\n",
        "plt.show()"
      ],
      "metadata": {
        "execution": {
          "iopub.status.busy": "2022-12-18T00:02:40.418804Z",
          "iopub.execute_input": "2022-12-18T00:02:40.4193Z",
          "iopub.status.idle": "2022-12-18T00:02:40.654782Z",
          "shell.execute_reply.started": "2022-12-18T00:02:40.419246Z",
          "shell.execute_reply": "2022-12-18T00:02:40.653477Z"
        },
        "trusted": true,
        "id": "SPrqRstEeUdS"
      },
      "execution_count": null,
      "outputs": []
    },
    {
      "cell_type": "code",
      "source": [
        "covid_least_new_cases = pd.DataFrame(df.groupby(\"Country\")['New_cases']\n",
        "                               .agg('sum')).sort_values(by='New_cases',ascending=True,axis=0)\n",
        "\n",
        "covid_least_new_cases.head(10)"
      ],
      "metadata": {
        "execution": {
          "iopub.status.busy": "2022-12-18T00:02:40.656986Z",
          "iopub.execute_input": "2022-12-18T00:02:40.657445Z",
          "iopub.status.idle": "2022-12-18T00:02:40.699966Z",
          "shell.execute_reply.started": "2022-12-18T00:02:40.657396Z",
          "shell.execute_reply": "2022-12-18T00:02:40.698701Z"
        },
        "trusted": true,
        "id": "2hZ3YZ5peUdS"
      },
      "execution_count": null,
      "outputs": []
    },
    {
      "cell_type": "code",
      "source": [
        "covid_least_new_cases.head(10).plot(kind='bar',  xlabel = 'Country', ylabel = 'No. of New_cases',title = 'New Covid19 cases Recorded', figsize=(15,10))\n",
        "plt.show()"
      ],
      "metadata": {
        "execution": {
          "iopub.status.busy": "2022-12-18T00:02:40.701612Z",
          "iopub.execute_input": "2022-12-18T00:02:40.701934Z",
          "iopub.status.idle": "2022-12-18T00:02:40.953041Z",
          "shell.execute_reply.started": "2022-12-18T00:02:40.70189Z",
          "shell.execute_reply": "2022-12-18T00:02:40.951992Z"
        },
        "trusted": true,
        "id": "96JX80zoeUdT"
      },
      "execution_count": null,
      "outputs": []
    },
    {
      "cell_type": "code",
      "source": [
        "covid_new_death = pd.DataFrame(df.groupby(\"Country\")['New_deaths']\n",
        "                               .agg('sum')).sort_values(by='New_deaths',ascending=False,axis=0)\n",
        "\n",
        "covid_new_death.head()"
      ],
      "metadata": {
        "execution": {
          "iopub.status.busy": "2022-12-18T00:02:40.955017Z",
          "iopub.execute_input": "2022-12-18T00:02:40.955369Z",
          "iopub.status.idle": "2022-12-18T00:02:40.996371Z",
          "shell.execute_reply.started": "2022-12-18T00:02:40.955334Z",
          "shell.execute_reply": "2022-12-18T00:02:40.995008Z"
        },
        "trusted": true,
        "id": "1TmT-jNMeUdT"
      },
      "execution_count": null,
      "outputs": []
    },
    {
      "cell_type": "code",
      "source": [
        "covid_new_death.head(10).plot(kind='bar',  xlabel = 'Country', ylabel = 'No. of New_Death',title = 'Total of Number of deaths')\n",
        "plt.show()"
      ],
      "metadata": {
        "execution": {
          "iopub.status.busy": "2022-12-18T00:02:40.999813Z",
          "iopub.execute_input": "2022-12-18T00:02:41.000182Z",
          "iopub.status.idle": "2022-12-18T00:02:41.293241Z",
          "shell.execute_reply.started": "2022-12-18T00:02:41.000145Z",
          "shell.execute_reply": "2022-12-18T00:02:41.292073Z"
        },
        "trusted": true,
        "id": "K-VXIgskeUdU"
      },
      "execution_count": null,
      "outputs": []
    },
    {
      "cell_type": "code",
      "source": [
        "covid_new_least_death = pd.DataFrame(df.groupby(\"Country\")['New_deaths']\n",
        "                               .agg('sum')).sort_values(by='New_deaths',ascending=True,axis=0)\n",
        "\n",
        "covid_new_least_death.head(10)"
      ],
      "metadata": {
        "execution": {
          "iopub.status.busy": "2022-12-18T00:02:41.296107Z",
          "iopub.execute_input": "2022-12-18T00:02:41.296427Z",
          "iopub.status.idle": "2022-12-18T00:02:41.335248Z",
          "shell.execute_reply.started": "2022-12-18T00:02:41.296398Z",
          "shell.execute_reply": "2022-12-18T00:02:41.33411Z"
        },
        "trusted": true,
        "id": "aufAGN-GeUdU"
      },
      "execution_count": null,
      "outputs": []
    },
    {
      "cell_type": "code",
      "source": [
        "covid_new_least_death.head(10).plot(kind='bar',  xlabel = 'Country', ylabel = 'No. of New_Death',title = 'Total of Number of deaths')\n",
        "plt.show()"
      ],
      "metadata": {
        "execution": {
          "iopub.status.busy": "2022-12-18T00:02:41.336487Z",
          "iopub.execute_input": "2022-12-18T00:02:41.336782Z",
          "iopub.status.idle": "2022-12-18T00:02:41.540375Z",
          "shell.execute_reply.started": "2022-12-18T00:02:41.336753Z",
          "shell.execute_reply": "2022-12-18T00:02:41.538851Z"
        },
        "trusted": true,
        "id": "PuctbIEteUdV"
      },
      "execution_count": null,
      "outputs": []
    },
    {
      "cell_type": "code",
      "source": [
        "covid_Cumulative_deaths = pd.DataFrame(df.groupby(\"Country\")['Cumulative_deaths']\n",
        "                               .agg('sum')).sort_values(by='Cumulative_deaths',ascending=False,axis=0)\n",
        "\n",
        "covid_Cumulative_deaths.head()"
      ],
      "metadata": {
        "execution": {
          "iopub.status.busy": "2022-12-18T00:02:41.542367Z",
          "iopub.execute_input": "2022-12-18T00:02:41.542744Z",
          "iopub.status.idle": "2022-12-18T00:02:41.582364Z",
          "shell.execute_reply.started": "2022-12-18T00:02:41.542708Z",
          "shell.execute_reply": "2022-12-18T00:02:41.581331Z"
        },
        "trusted": true,
        "id": "dzfDG-lgeUdW"
      },
      "execution_count": null,
      "outputs": []
    },
    {
      "cell_type": "code",
      "source": [
        "covid_Cumulative_deaths.head(15).plot(kind='bar',  xlabel = 'Country', ylabel = 'No. of Cumulative death',title = 'No of Cumulative deaths')\n",
        "plt.show()"
      ],
      "metadata": {
        "execution": {
          "iopub.status.busy": "2022-12-18T00:02:41.583608Z",
          "iopub.execute_input": "2022-12-18T00:02:41.583899Z",
          "iopub.status.idle": "2022-12-18T00:02:41.817639Z",
          "shell.execute_reply.started": "2022-12-18T00:02:41.583872Z",
          "shell.execute_reply": "2022-12-18T00:02:41.816005Z"
        },
        "trusted": true,
        "id": "dVbiQNe0eUdW"
      },
      "execution_count": null,
      "outputs": []
    },
    {
      "cell_type": "code",
      "source": [
        "covid_Cumulative_least_deaths = pd.DataFrame(df.groupby(\"Country\")['Cumulative_deaths']\n",
        "                               .agg('sum')).sort_values(by='Cumulative_deaths',ascending=True,axis=0)\n",
        "\n",
        "covid_Cumulative_least_deaths.head(10)"
      ],
      "metadata": {
        "execution": {
          "iopub.status.busy": "2022-12-18T00:02:41.819532Z",
          "iopub.execute_input": "2022-12-18T00:02:41.819985Z",
          "iopub.status.idle": "2022-12-18T00:02:41.86358Z",
          "shell.execute_reply.started": "2022-12-18T00:02:41.819934Z",
          "shell.execute_reply": "2022-12-18T00:02:41.862084Z"
        },
        "trusted": true,
        "id": "y4rOsMUmeUdX"
      },
      "execution_count": null,
      "outputs": []
    },
    {
      "cell_type": "code",
      "source": [
        "covid_Cumulative_least_deaths.head(15).plot(kind='bar',  xlabel = 'Country', ylabel = 'No. of Cumulative death',title = 'Cumulative deaths')\n",
        "plt.show()"
      ],
      "metadata": {
        "execution": {
          "iopub.status.busy": "2022-12-18T00:02:41.865628Z",
          "iopub.execute_input": "2022-12-18T00:02:41.866072Z",
          "iopub.status.idle": "2022-12-18T00:02:42.111688Z",
          "shell.execute_reply.started": "2022-12-18T00:02:41.866032Z",
          "shell.execute_reply": "2022-12-18T00:02:42.110183Z"
        },
        "trusted": true,
        "id": "lcXN9gA0eUdX"
      },
      "execution_count": null,
      "outputs": []
    },
    {
      "cell_type": "code",
      "source": [
        "covid_cum_new_year = pd.DataFrame(df.groupby([\"Country\",'year'])['Cumulative_cases']\n",
        "                               .agg('sum')).sort_values(by=['year', 'Cumulative_cases'],ascending=False,axis=0)\n",
        "\n",
        "covid_cum_new_year.head(10)"
      ],
      "metadata": {
        "execution": {
          "iopub.status.busy": "2022-12-18T00:02:42.11378Z",
          "iopub.execute_input": "2022-12-18T00:02:42.114339Z",
          "iopub.status.idle": "2022-12-18T00:02:42.169169Z",
          "shell.execute_reply.started": "2022-12-18T00:02:42.114287Z",
          "shell.execute_reply": "2022-12-18T00:02:42.167052Z"
        },
        "trusted": true,
        "id": "8sT84JDNeUdX"
      },
      "execution_count": null,
      "outputs": []
    },
    {
      "cell_type": "code",
      "source": [
        "covid_cum_new_year = pd.DataFrame(df.groupby([\"Country\",'year'])['Cumulative_cases']\n",
        "                               .agg('sum')).sort_values(by=['year', 'Cumulative_cases'],ascending=True,axis=0)\n",
        "\n",
        "covid_cum_new_year.head(10)"
      ],
      "metadata": {
        "execution": {
          "iopub.status.busy": "2022-12-18T00:02:42.17156Z",
          "iopub.execute_input": "2022-12-18T00:02:42.172223Z",
          "iopub.status.idle": "2022-12-18T00:02:42.225226Z",
          "shell.execute_reply.started": "2022-12-18T00:02:42.172168Z",
          "shell.execute_reply": "2022-12-18T00:02:42.224008Z"
        },
        "trusted": true,
        "id": "qEUQZOm9eUdY"
      },
      "execution_count": null,
      "outputs": []
    },
    {
      "cell_type": "code",
      "source": [
        "covid_New_cases_year = pd.DataFrame(df.groupby([\"Country\",'year'])['New_cases']\n",
        "                               .agg('sum')).sort_values(by=['year', 'New_cases'],ascending=False,axis=0)\n",
        "\n",
        "covid_New_cases_year.head(10)"
      ],
      "metadata": {
        "execution": {
          "iopub.status.busy": "2022-12-18T00:02:42.227184Z",
          "iopub.execute_input": "2022-12-18T00:02:42.227549Z",
          "iopub.status.idle": "2022-12-18T00:02:42.276459Z",
          "shell.execute_reply.started": "2022-12-18T00:02:42.227512Z",
          "shell.execute_reply": "2022-12-18T00:02:42.275467Z"
        },
        "trusted": true,
        "id": "dqPalNjpeUdY"
      },
      "execution_count": null,
      "outputs": []
    },
    {
      "cell_type": "code",
      "source": [
        "covid_New_cases_year = pd.DataFrame(df.groupby([\"Country\",'year'])['New_cases']\n",
        "                               .agg('sum')).sort_values(by=['year', 'New_cases'],ascending=True,axis=0)\n",
        "\n",
        "covid_New_cases_year.head(10)"
      ],
      "metadata": {
        "execution": {
          "iopub.status.busy": "2022-12-18T00:02:42.27841Z",
          "iopub.execute_input": "2022-12-18T00:02:42.279044Z",
          "iopub.status.idle": "2022-12-18T00:02:42.328825Z",
          "shell.execute_reply.started": "2022-12-18T00:02:42.278988Z",
          "shell.execute_reply": "2022-12-18T00:02:42.327818Z"
        },
        "trusted": true,
        "id": "WjF34JeyeUdi"
      },
      "execution_count": null,
      "outputs": []
    },
    {
      "cell_type": "code",
      "source": [
        "covid_cum_death_cases_year = pd.DataFrame(df.groupby([\"Country\",'year'])['Cumulative_deaths']\n",
        "                               .agg('sum')).sort_values(by=['year', 'Cumulative_deaths'],ascending=False,axis=0)\n",
        "\n",
        "covid_cum_death_cases_year.head(10)"
      ],
      "metadata": {
        "execution": {
          "iopub.status.busy": "2022-12-18T00:02:42.330519Z",
          "iopub.execute_input": "2022-12-18T00:02:42.33085Z",
          "iopub.status.idle": "2022-12-18T00:02:42.380246Z",
          "shell.execute_reply.started": "2022-12-18T00:02:42.330818Z",
          "shell.execute_reply": "2022-12-18T00:02:42.379074Z"
        },
        "trusted": true,
        "id": "4l34Jvh-eUdj"
      },
      "execution_count": null,
      "outputs": []
    },
    {
      "cell_type": "code",
      "source": [
        "covid_new_death_cases_year = pd.DataFrame(df.groupby([\"Country\",'year'])['New_deaths']\n",
        "                               .agg('sum')).sort_values(by=['year', 'New_deaths'],ascending=False,axis=0)\n",
        "\n",
        "covid_new_death_cases_year.head(10)"
      ],
      "metadata": {
        "execution": {
          "iopub.status.busy": "2022-12-18T00:02:42.381972Z",
          "iopub.execute_input": "2022-12-18T00:02:42.382292Z",
          "iopub.status.idle": "2022-12-18T00:02:42.429073Z",
          "shell.execute_reply.started": "2022-12-18T00:02:42.382261Z",
          "shell.execute_reply": "2022-12-18T00:02:42.428332Z"
        },
        "trusted": true,
        "id": "NYj0tVvqeUdj"
      },
      "execution_count": null,
      "outputs": []
    },
    {
      "cell_type": "code",
      "source": [
        "cases_2020 = df[df['year']== 2020]\n",
        "\n",
        "cases_2020.head()"
      ],
      "metadata": {
        "execution": {
          "iopub.status.busy": "2022-12-18T00:02:42.430148Z",
          "iopub.execute_input": "2022-12-18T00:02:42.430544Z",
          "iopub.status.idle": "2022-12-18T00:02:42.45503Z",
          "shell.execute_reply.started": "2022-12-18T00:02:42.430514Z",
          "shell.execute_reply": "2022-12-18T00:02:42.453738Z"
        },
        "trusted": true,
        "id": "vdRynD_keUdk"
      },
      "execution_count": null,
      "outputs": []
    },
    {
      "cell_type": "code",
      "source": [
        "covid_New_cases_year_cases_2020 = pd.DataFrame(cases_2020.groupby([\"Country\",'year'])['New_cases']\n",
        "                               .agg('sum')).sort_values(by=['year', 'New_cases'],ascending=False,axis=0)\n",
        "\n",
        "covid_New_cases_year_cases_2020.head(10)"
      ],
      "metadata": {
        "execution": {
          "iopub.status.busy": "2022-12-18T00:02:42.459102Z",
          "iopub.execute_input": "2022-12-18T00:02:42.459507Z",
          "iopub.status.idle": "2022-12-18T00:02:42.4912Z",
          "shell.execute_reply.started": "2022-12-18T00:02:42.45947Z",
          "shell.execute_reply": "2022-12-18T00:02:42.490023Z"
        },
        "trusted": true,
        "id": "fDicq50xeUdk"
      },
      "execution_count": null,
      "outputs": []
    },
    {
      "cell_type": "code",
      "source": [
        "covid_New_cases_year_cases_2020 = pd.DataFrame(cases_2020.groupby([\"Country\",'year'])['New_cases']\n",
        "                               .agg('sum')).sort_values(by=['year', 'New_cases'],ascending=True,axis=0)\n",
        "\n",
        "covid_New_cases_year_cases_2020.head(10)"
      ],
      "metadata": {
        "execution": {
          "iopub.status.busy": "2022-12-18T00:02:42.493131Z",
          "iopub.execute_input": "2022-12-18T00:02:42.493474Z",
          "iopub.status.idle": "2022-12-18T00:02:42.525004Z",
          "shell.execute_reply.started": "2022-12-18T00:02:42.493436Z",
          "shell.execute_reply": "2022-12-18T00:02:42.52347Z"
        },
        "trusted": true,
        "id": "UC4PzNBueUdl"
      },
      "execution_count": null,
      "outputs": []
    },
    {
      "cell_type": "code",
      "source": [
        "cases_2021 = df[df['year']== 2021]\n",
        "\n",
        "cases_2021.head()"
      ],
      "metadata": {
        "execution": {
          "iopub.status.busy": "2022-12-18T00:02:42.526711Z",
          "iopub.execute_input": "2022-12-18T00:02:42.527041Z",
          "iopub.status.idle": "2022-12-18T00:02:42.549227Z",
          "shell.execute_reply.started": "2022-12-18T00:02:42.527012Z",
          "shell.execute_reply": "2022-12-18T00:02:42.547856Z"
        },
        "trusted": true,
        "id": "jA6cwT7reUdm"
      },
      "execution_count": null,
      "outputs": []
    },
    {
      "cell_type": "code",
      "source": [
        "covid_New_cases_year_cases_2021 = pd.DataFrame(cases_2021.groupby([\"Country\",'year'])['New_cases']\n",
        "                               .agg('sum')).sort_values(by=['year', 'New_cases'],ascending=False,axis=0)\n",
        "\n",
        "covid_New_cases_year_cases_2021.head(10)"
      ],
      "metadata": {
        "execution": {
          "iopub.status.busy": "2022-12-18T00:02:42.550671Z",
          "iopub.execute_input": "2022-12-18T00:02:42.551001Z",
          "iopub.status.idle": "2022-12-18T00:02:42.57996Z",
          "shell.execute_reply.started": "2022-12-18T00:02:42.550963Z",
          "shell.execute_reply": "2022-12-18T00:02:42.579057Z"
        },
        "trusted": true,
        "id": "Nd94B7iPeUdm"
      },
      "execution_count": null,
      "outputs": []
    },
    {
      "cell_type": "code",
      "source": [
        "covid_New_cases_year_cases_2021 = pd.DataFrame(cases_2021.groupby([\"Country\",'year'])['New_cases']\n",
        "                               .agg('sum')).sort_values(by=['year', 'New_cases'],ascending=True,axis=0)\n",
        "\n",
        "covid_New_cases_year_cases_2021.head(10)"
      ],
      "metadata": {
        "execution": {
          "iopub.status.busy": "2022-12-18T00:02:42.581454Z",
          "iopub.execute_input": "2022-12-18T00:02:42.581743Z",
          "iopub.status.idle": "2022-12-18T00:02:42.610796Z",
          "shell.execute_reply.started": "2022-12-18T00:02:42.581715Z",
          "shell.execute_reply": "2022-12-18T00:02:42.60966Z"
        },
        "trusted": true,
        "id": "ndWWh58AeUdn"
      },
      "execution_count": null,
      "outputs": []
    },
    {
      "cell_type": "code",
      "source": [
        "cases_2022 = df[df['year']== 2022]\n",
        "\n",
        "cases_2022.head()"
      ],
      "metadata": {
        "execution": {
          "iopub.status.busy": "2022-12-18T00:02:42.61258Z",
          "iopub.execute_input": "2022-12-18T00:02:42.61291Z",
          "iopub.status.idle": "2022-12-18T00:02:42.63439Z",
          "shell.execute_reply.started": "2022-12-18T00:02:42.61288Z",
          "shell.execute_reply": "2022-12-18T00:02:42.633154Z"
        },
        "trusted": true,
        "id": "S5yRnJ2qeUdo"
      },
      "execution_count": null,
      "outputs": []
    },
    {
      "cell_type": "code",
      "source": [
        "covid_New_cases_year_cases_2022 = pd.DataFrame(cases_2022.groupby([\"Country\",'year'])['New_cases']\n",
        "                               .agg('sum')).sort_values(by=['year', 'New_cases'],ascending=False,axis=0)\n",
        "\n",
        "covid_New_cases_year_cases_2022.head(10)"
      ],
      "metadata": {
        "execution": {
          "iopub.status.busy": "2022-12-18T00:02:42.635802Z",
          "iopub.execute_input": "2022-12-18T00:02:42.636138Z",
          "iopub.status.idle": "2022-12-18T00:02:42.668122Z",
          "shell.execute_reply.started": "2022-12-18T00:02:42.636108Z",
          "shell.execute_reply": "2022-12-18T00:02:42.666752Z"
        },
        "trusted": true,
        "id": "srvhbcHoeUdo"
      },
      "execution_count": null,
      "outputs": []
    },
    {
      "cell_type": "code",
      "source": [
        "covid_New_cases_year_cases_2022 = pd.DataFrame(cases_2022.groupby([\"Country\",'year'])['New_cases']\n",
        "                               .agg('sum')).sort_values(by=['year', 'New_cases'],ascending=True,axis=0)\n",
        "\n",
        "covid_New_cases_year_cases_2022.head(10)"
      ],
      "metadata": {
        "execution": {
          "iopub.status.busy": "2022-12-18T00:02:42.669297Z",
          "iopub.execute_input": "2022-12-18T00:02:42.669679Z",
          "iopub.status.idle": "2022-12-18T00:02:42.701192Z",
          "shell.execute_reply.started": "2022-12-18T00:02:42.669647Z",
          "shell.execute_reply": "2022-12-18T00:02:42.700088Z"
        },
        "trusted": true,
        "id": "-meFd0h2eUdv"
      },
      "execution_count": null,
      "outputs": []
    },
    {
      "cell_type": "markdown",
      "source": [
        "## Coronavirus Cases in different Continents\n",
        "What `WHO_region` which also signifies each continents are mostly affected"
      ],
      "metadata": {
        "id": "K4IwDDzBeUdw"
      }
    },
    {
      "cell_type": "code",
      "source": [
        "covid_region_Cumulative_deaths = pd.DataFrame(df.groupby(\"WHO_region\")['Cumulative_deaths']\n",
        "                               .agg('sum')).sort_values(by='Cumulative_deaths',ascending=False,axis=0)\n",
        "\n",
        "covid_region_Cumulative_deaths"
      ],
      "metadata": {
        "execution": {
          "iopub.status.busy": "2022-12-18T00:02:42.704384Z",
          "iopub.execute_input": "2022-12-18T00:02:42.704782Z",
          "iopub.status.idle": "2022-12-18T00:02:42.749804Z",
          "shell.execute_reply.started": "2022-12-18T00:02:42.704742Z",
          "shell.execute_reply": "2022-12-18T00:02:42.748714Z"
        },
        "trusted": true,
        "id": "ItBvivEteUdw"
      },
      "execution_count": null,
      "outputs": []
    },
    {
      "cell_type": "code",
      "source": [
        "covid_region_New_deaths = pd.DataFrame(df.groupby(\"WHO_region\")['New_deaths']\n",
        "                               .agg('sum')).sort_values(by='New_deaths',ascending=False,axis=0)\n",
        "\n",
        "covid_region_New_deaths"
      ],
      "metadata": {
        "execution": {
          "iopub.status.busy": "2022-12-18T00:02:42.751485Z",
          "iopub.execute_input": "2022-12-18T00:02:42.751996Z",
          "iopub.status.idle": "2022-12-18T00:02:42.788604Z",
          "shell.execute_reply.started": "2022-12-18T00:02:42.751957Z",
          "shell.execute_reply": "2022-12-18T00:02:42.787671Z"
        },
        "trusted": true,
        "id": "5Y88H04WeUdx"
      },
      "execution_count": null,
      "outputs": []
    },
    {
      "cell_type": "code",
      "source": [
        "covid_region_Cumulative_cases = pd.DataFrame(df.groupby(\"WHO_region\")['Cumulative_cases']\n",
        "                               .agg('sum')).sort_values(by='Cumulative_cases',ascending=False,axis=0)\n",
        "\n",
        "covid_region_Cumulative_cases"
      ],
      "metadata": {
        "execution": {
          "iopub.status.busy": "2022-12-18T00:02:42.790085Z",
          "iopub.execute_input": "2022-12-18T00:02:42.790592Z",
          "iopub.status.idle": "2022-12-18T00:02:42.830083Z",
          "shell.execute_reply.started": "2022-12-18T00:02:42.790552Z",
          "shell.execute_reply": "2022-12-18T00:02:42.829095Z"
        },
        "trusted": true,
        "id": "uxVnL2CDeUdy"
      },
      "execution_count": null,
      "outputs": []
    },
    {
      "cell_type": "code",
      "source": [
        "covid_region_New_cases = pd.DataFrame(df.groupby(\"WHO_region\")['New_cases']\n",
        "                               .agg('sum')).sort_values(by='New_cases',ascending=False,axis=0)\n",
        "\n",
        "covid_region_New_cases"
      ],
      "metadata": {
        "execution": {
          "iopub.status.busy": "2022-12-18T00:02:42.831715Z",
          "iopub.execute_input": "2022-12-18T00:02:42.832229Z",
          "iopub.status.idle": "2022-12-18T00:02:42.868496Z",
          "shell.execute_reply.started": "2022-12-18T00:02:42.832189Z",
          "shell.execute_reply": "2022-12-18T00:02:42.86706Z"
        },
        "trusted": true,
        "id": "w1PSUuEfeUdy"
      },
      "execution_count": null,
      "outputs": []
    },
    {
      "cell_type": "markdown",
      "source": [
        "Cumulative and new cases  American region had more cases than other regions probably due to the high recorded in USA and EURO recorded more cumulative and new deaths, it was observed <a href='https://www.researchgate.net/publication/356481471_Estimates_of_global_SARS-CoV-2_infection_exposure_infection_morbidity_and_infection_mortality_rates_in_2020'>this article</a> that most of the death that happened in the EURO region happened in the year 2022 when the new variant was out and the restriction has been lifted."
      ],
      "metadata": {
        "id": "U-gsL4-IeUdz"
      }
    },
    {
      "cell_type": "code",
      "source": [
        "Covid_19 = df"
      ],
      "metadata": {
        "execution": {
          "iopub.status.busy": "2022-12-18T00:02:42.923353Z",
          "iopub.execute_input": "2022-12-18T00:02:42.923779Z",
          "iopub.status.idle": "2022-12-18T00:02:42.929501Z",
          "shell.execute_reply.started": "2022-12-18T00:02:42.923745Z",
          "shell.execute_reply": "2022-12-18T00:02:42.928097Z"
        },
        "trusted": true,
        "id": "MlrzsmWweUdz"
      },
      "execution_count": null,
      "outputs": []
    },
    {
      "cell_type": "markdown",
      "source": [
        "## Coronavirus cases/death in Africa which is AFRO"
      ],
      "metadata": {
        "id": "7zgNTOameUd0"
      }
    },
    {
      "cell_type": "code",
      "source": [
        "africa_cases= Covid_19[Covid_19['WHO_region'] =='AFRO']\n",
        "#  top ten most affected countries\n",
        "\n",
        "top_countries = pd.DataFrame(africa_cases.groupby(\"Country\")['Cumulative_cases']\n",
        "                               .agg('sum')).sort_values(by='Cumulative_cases',ascending=False,axis=0)\n",
        "\n",
        "\n",
        "top_countries.head(10)"
      ],
      "metadata": {
        "execution": {
          "iopub.status.busy": "2022-12-18T00:02:43.010252Z",
          "iopub.execute_input": "2022-12-18T00:02:43.0107Z",
          "iopub.status.idle": "2022-12-18T00:02:43.056005Z",
          "shell.execute_reply.started": "2022-12-18T00:02:43.010665Z",
          "shell.execute_reply": "2022-12-18T00:02:43.054541Z"
        },
        "trusted": true,
        "id": "ziY6RggAeUd0"
      },
      "execution_count": null,
      "outputs": []
    },
    {
      "cell_type": "code",
      "source": [
        "top_countries.head(10).plot(kind='bar',  xlabel = 'Country', ylabel = 'No. of Cumulative cases',title = 'Cumulative cases')\n",
        "plt.show()"
      ],
      "metadata": {
        "execution": {
          "iopub.status.busy": "2022-12-18T00:02:43.10038Z",
          "iopub.execute_input": "2022-12-18T00:02:43.100793Z",
          "iopub.status.idle": "2022-12-18T00:02:43.296672Z",
          "shell.execute_reply.started": "2022-12-18T00:02:43.100756Z",
          "shell.execute_reply": "2022-12-18T00:02:43.295187Z"
        },
        "trusted": true,
        "id": "OA31UhieeUd1"
      },
      "execution_count": null,
      "outputs": []
    },
    {
      "cell_type": "code",
      "source": [
        "top_countries.head(10).unstack(level=0).plot(\n",
        "    kind='pie',\n",
        "    stacked=True,\n",
        "    subplots=True,\n",
        "    autopct='%1.1f%%',\n",
        "    figsize=(10, 10),\n",
        "    legend=False,\n",
        "    )\n",
        "plt.show()"
      ],
      "metadata": {
        "execution": {
          "iopub.status.busy": "2022-12-18T00:02:43.300211Z",
          "iopub.execute_input": "2022-12-18T00:02:43.300765Z",
          "iopub.status.idle": "2022-12-18T00:02:43.457016Z",
          "shell.execute_reply.started": "2022-12-18T00:02:43.300703Z",
          "shell.execute_reply": "2022-12-18T00:02:43.455508Z"
        },
        "trusted": true,
        "id": "vAjhDp8leUd1"
      },
      "execution_count": null,
      "outputs": []
    },
    {
      "cell_type": "code",
      "source": [
        "africa_cases= Covid_19[Covid_19['WHO_region']=='AFRO']\n",
        "# sum of total cases in africa\n",
        "africa_cases['Cumulative_cases'].sum()\n",
        "\n",
        "print('Africa has a total cumulative cases of about', africa_cases['Cumulative_cases'].sum())"
      ],
      "metadata": {
        "execution": {
          "iopub.status.busy": "2022-12-18T00:02:43.45852Z",
          "iopub.execute_input": "2022-12-18T00:02:43.458822Z",
          "iopub.status.idle": "2022-12-18T00:02:43.491398Z",
          "shell.execute_reply.started": "2022-12-18T00:02:43.458792Z",
          "shell.execute_reply": "2022-12-18T00:02:43.490431Z"
        },
        "trusted": true,
        "id": "4dezAswteUd2"
      },
      "execution_count": null,
      "outputs": []
    },
    {
      "cell_type": "markdown",
      "source": [
        "## Cumulative Death Cases"
      ],
      "metadata": {
        "id": "BpYHTPUJeUd3"
      }
    },
    {
      "cell_type": "code",
      "source": [
        "# Top ten cases in Africa\n",
        "africa_death_cases=Covid_19[Covid_19['WHO_region']=='AFRO']\n",
        "africa_death_cases=pd.DataFrame(africa_death_cases.groupby(\"Country\")['Cumulative_deaths']\n",
        "                               .agg('sum')).sort_values(by='Cumulative_deaths',ascending=False,axis=0)\n",
        "africa_death_cases.head(10)"
      ],
      "metadata": {
        "execution": {
          "iopub.status.busy": "2022-12-18T00:02:43.493813Z",
          "iopub.execute_input": "2022-12-18T00:02:43.494201Z",
          "iopub.status.idle": "2022-12-18T00:02:43.537005Z",
          "shell.execute_reply.started": "2022-12-18T00:02:43.494168Z",
          "shell.execute_reply": "2022-12-18T00:02:43.535866Z"
        },
        "trusted": true,
        "id": "R7K8Gw_3eUd4"
      },
      "execution_count": null,
      "outputs": []
    },
    {
      "cell_type": "code",
      "source": [
        "africa_death_cases.head(10).plot(kind='bar',  xlabel = 'Country', ylabel = 'No. of Cumulative death',title = 'Top ten death cases in Africa')\n",
        "plt.show()"
      ],
      "metadata": {
        "execution": {
          "iopub.status.busy": "2022-12-18T00:02:43.54115Z",
          "iopub.execute_input": "2022-12-18T00:02:43.541461Z",
          "iopub.status.idle": "2022-12-18T00:02:43.734286Z",
          "shell.execute_reply.started": "2022-12-18T00:02:43.541432Z",
          "shell.execute_reply": "2022-12-18T00:02:43.732948Z"
        },
        "trusted": true,
        "id": "4alCuL50eUd5"
      },
      "execution_count": null,
      "outputs": []
    },
    {
      "cell_type": "code",
      "source": [
        "africa_death_cases.head(10).unstack(level=0).plot(\n",
        "    kind='pie',\n",
        "    stacked=True,\n",
        "    subplots=True,\n",
        "    autopct='%1.1f%%',\n",
        "    figsize=(10, 10),\n",
        "    legend=False,\n",
        "    )\n",
        "plt.show()"
      ],
      "metadata": {
        "execution": {
          "iopub.status.busy": "2022-12-18T00:02:43.736841Z",
          "iopub.execute_input": "2022-12-18T00:02:43.737214Z",
          "iopub.status.idle": "2022-12-18T00:02:43.888361Z",
          "shell.execute_reply.started": "2022-12-18T00:02:43.737184Z",
          "shell.execute_reply": "2022-12-18T00:02:43.887067Z"
        },
        "trusted": true,
        "id": "caHSSr3zeUd5"
      },
      "execution_count": null,
      "outputs": []
    },
    {
      "cell_type": "code",
      "source": [
        "africa_death_cases=Covid_19[Covid_19['WHO_region']=='AFRO']\n",
        "# sum of total  death cases in europe\n",
        "\n",
        "print('Africa has a total cumulative death of about', africa_death_cases['Cumulative_deaths'].sum())"
      ],
      "metadata": {
        "execution": {
          "iopub.status.busy": "2022-12-18T00:02:43.891084Z",
          "iopub.execute_input": "2022-12-18T00:02:43.89155Z",
          "iopub.status.idle": "2022-12-18T00:02:43.923938Z",
          "shell.execute_reply.started": "2022-12-18T00:02:43.891504Z",
          "shell.execute_reply": "2022-12-18T00:02:43.922462Z"
        },
        "trusted": true,
        "id": "DfzoI-cyeUd6"
      },
      "execution_count": null,
      "outputs": []
    },
    {
      "cell_type": "markdown",
      "source": [
        "Africa seems to have it better than other countries of the world in terms despite being the second most populous continent, several reports were made about how they were able to curtail the virus, <a href='https://gdc.unicef.org/resource/coronavirus-africa-five-reasons-why-covid-19-has-been-less-deadly-elsewhere'> some said</a> we are better prepared amidst many others while <a href='https://www.nytimes.com/2022/03/23/health/covid-africa-deaths.html'>others</a> believe it's due to low testing and lack of proper databank.\n",
        "\n",
        "In all of this, the case of South Africa seems peculiar as they are the most hit country in this pandemic, they have recorded the most cases and deaths, The spread of the virus accelerated in South Africa as the southern hemisphere went into winter but as it became warmer, the number of cases dropped significantly, impacting the continental outlook, as South Africa accounts for almost half the total number of cases and deaths on the continent."
      ],
      "metadata": {
        "id": "RSCeAGM6eUd7"
      }
    },
    {
      "cell_type": "markdown",
      "source": [
        "## Coronavirus cases in America which is AMRO\n",
        "\n",
        "According to the information provided above, the United States not only had the greatest number of coronavirus cases in North America, but also ranked first globally. Let's now learn about the cases in the remaining parts of North America."
      ],
      "metadata": {
        "id": "7HD1Ec6FeUd8"
      }
    },
    {
      "cell_type": "code",
      "source": [
        "america_cases= Covid_19[Covid_19['WHO_region']=='AMRO']\n",
        "#  top ten most affected countries\n",
        "\n",
        "america_cases = pd.DataFrame(america_cases.groupby(\"Country\")['Cumulative_cases']\n",
        "                               .agg('sum')).sort_values(by='Cumulative_cases',ascending=False,axis=0)\n",
        "america_cases.head(10)"
      ],
      "metadata": {
        "execution": {
          "iopub.status.busy": "2022-12-18T00:02:43.925493Z",
          "iopub.execute_input": "2022-12-18T00:02:43.92581Z",
          "iopub.status.idle": "2022-12-18T00:02:43.975756Z",
          "shell.execute_reply.started": "2022-12-18T00:02:43.92578Z",
          "shell.execute_reply": "2022-12-18T00:02:43.974514Z"
        },
        "trusted": true,
        "id": "G4Jh1vhOeUd8"
      },
      "execution_count": null,
      "outputs": []
    },
    {
      "cell_type": "code",
      "source": [
        "america_cases.head(10).plot(kind='bar',  xlabel = 'Country', ylabel = 'No. of Cumulative caes',title = 'Top ten affected countries(AMRO)')\n",
        "plt.show()"
      ],
      "metadata": {
        "execution": {
          "iopub.status.busy": "2022-12-18T00:02:43.977139Z",
          "iopub.execute_input": "2022-12-18T00:02:43.977546Z",
          "iopub.status.idle": "2022-12-18T00:02:44.17877Z",
          "shell.execute_reply.started": "2022-12-18T00:02:43.977512Z",
          "shell.execute_reply": "2022-12-18T00:02:44.177405Z"
        },
        "trusted": true,
        "id": "qh1cCbQqeUd9"
      },
      "execution_count": null,
      "outputs": []
    },
    {
      "cell_type": "code",
      "source": [
        "america_cases.head(10).unstack(level=0).plot(\n",
        "    kind='pie',\n",
        "    stacked=True,\n",
        "    subplots=True,\n",
        "    autopct='%1.1f%%',\n",
        "    figsize=(10, 10),\n",
        "    legend=False,\n",
        "    )\n",
        "plt.show()"
      ],
      "metadata": {
        "execution": {
          "iopub.status.busy": "2022-12-18T00:02:44.181963Z",
          "iopub.execute_input": "2022-12-18T00:02:44.182317Z",
          "iopub.status.idle": "2022-12-18T00:02:44.333265Z",
          "shell.execute_reply.started": "2022-12-18T00:02:44.182286Z",
          "shell.execute_reply": "2022-12-18T00:02:44.332163Z"
        },
        "trusted": true,
        "id": "4XGWkzMReUd9"
      },
      "execution_count": null,
      "outputs": []
    },
    {
      "cell_type": "markdown",
      "source": [
        "The United States of America (USA) has the most cases, as was demonstrated above."
      ],
      "metadata": {
        "id": "WNhTTbOqeUd-"
      }
    },
    {
      "cell_type": "code",
      "source": [
        "america_cases= Covid_19[Covid_19['WHO_region']=='AMRO']\n",
        "# sum of total cases in america\n",
        "print('America has a total Cumulative cases of about', america_cases['Cumulative_cases'].sum())"
      ],
      "metadata": {
        "execution": {
          "iopub.status.busy": "2022-12-18T00:02:44.335852Z",
          "iopub.execute_input": "2022-12-18T00:02:44.336238Z",
          "iopub.status.idle": "2022-12-18T00:02:44.367219Z",
          "shell.execute_reply.started": "2022-12-18T00:02:44.336202Z",
          "shell.execute_reply": "2022-12-18T00:02:44.365506Z"
        },
        "trusted": true,
        "id": "6VA5QdvseUd-"
      },
      "execution_count": null,
      "outputs": []
    },
    {
      "cell_type": "markdown",
      "source": [
        "## Cumulative Death Cases"
      ],
      "metadata": {
        "id": "qNky-w_VeUd_"
      }
    },
    {
      "cell_type": "code",
      "source": [
        "# Top ten cases in America\n",
        "america_death_cases=Covid_19[Covid_19['WHO_region']=='AMRO']\n",
        "# america_death_cases=america_death_cases[['Country','Cumulative_deaths','New_deaths']]\n",
        "# top_countries=america_death_cases.sort_values('Cumulative_deaths',ascending=False)\n",
        "# top_countries=top_countries.head(10)\n",
        "# top_countries\n",
        "\n",
        "\n",
        "america_death_cases = pd.DataFrame(america_death_cases.groupby(\"Country\")['Cumulative_deaths']\n",
        "                               .agg('sum')).sort_values(by='Cumulative_deaths',ascending=False,axis=0)\n",
        "\n",
        "america_death_cases.head(10)"
      ],
      "metadata": {
        "execution": {
          "iopub.status.busy": "2022-12-18T00:02:44.3712Z",
          "iopub.execute_input": "2022-12-18T00:02:44.371736Z",
          "iopub.status.idle": "2022-12-18T00:02:44.427062Z",
          "shell.execute_reply.started": "2022-12-18T00:02:44.371685Z",
          "shell.execute_reply": "2022-12-18T00:02:44.425758Z"
        },
        "trusted": true,
        "id": "VRvhA6nceUd_"
      },
      "execution_count": null,
      "outputs": []
    },
    {
      "cell_type": "code",
      "source": [
        "america_death_cases.head(10).plot(kind='bar',  xlabel = 'Country', ylabel = 'No. of Cumulative death',title = 'Top ten affected countries(AMRO)')\n",
        "plt.show()"
      ],
      "metadata": {
        "execution": {
          "iopub.status.busy": "2022-12-18T00:02:44.430173Z",
          "iopub.execute_input": "2022-12-18T00:02:44.430526Z",
          "iopub.status.idle": "2022-12-18T00:02:44.624505Z",
          "shell.execute_reply.started": "2022-12-18T00:02:44.430495Z",
          "shell.execute_reply": "2022-12-18T00:02:44.623698Z"
        },
        "trusted": true,
        "id": "OUfGFwJveUeA"
      },
      "execution_count": null,
      "outputs": []
    },
    {
      "cell_type": "code",
      "source": [
        "america_death_cases.head(10).unstack(level=0).plot(\n",
        "    kind='pie',\n",
        "    stacked=True,\n",
        "    subplots=True,\n",
        "    autopct='%1.1f%%',\n",
        "    figsize=(10, 10),\n",
        "    legend=False,\n",
        "    )\n",
        "plt.show()"
      ],
      "metadata": {
        "execution": {
          "iopub.status.busy": "2022-12-18T00:02:44.625699Z",
          "iopub.execute_input": "2022-12-18T00:02:44.626194Z",
          "iopub.status.idle": "2022-12-18T00:02:44.781402Z",
          "shell.execute_reply.started": "2022-12-18T00:02:44.626143Z",
          "shell.execute_reply": "2022-12-18T00:02:44.780414Z"
        },
        "trusted": true,
        "id": "Q6ygQkr5eUeB"
      },
      "execution_count": null,
      "outputs": []
    },
    {
      "cell_type": "code",
      "source": [
        "# america_death_cases=Covid_19[Covid_19['WHO_region']=='AMRO']\n",
        "# # sum of total cases in North America\n",
        "\n",
        "\n",
        "america_cases= Covid_19[Covid_19['WHO_region']=='AMRO']\n",
        "# sum of total cases in america\n",
        "print('America has a total Cumulative death of about', america_death_cases['Cumulative_deaths'].sum())"
      ],
      "metadata": {
        "execution": {
          "iopub.status.busy": "2022-12-18T00:02:44.782518Z",
          "iopub.execute_input": "2022-12-18T00:02:44.782813Z",
          "iopub.status.idle": "2022-12-18T00:02:44.816703Z",
          "shell.execute_reply.started": "2022-12-18T00:02:44.782785Z",
          "shell.execute_reply": "2022-12-18T00:02:44.815416Z"
        },
        "trusted": true,
        "id": "2mx_ehlZeUeC"
      },
      "execution_count": null,
      "outputs": []
    },
    {
      "cell_type": "markdown",
      "source": [
        "## Coronavirus cases in South-East Asia which is SEARO\n",
        "\n",
        "Southeast Asia is composed of eleven countries of impressive diversity in religion, culture and history: Bangladesh, Bhutan, Democratic People's Republic of Korea, India, Indonesia, Maldives, Myanmar, Nepal, Sri Lanka, Thailand, Timor-Leste."
      ],
      "metadata": {
        "id": "bJYTxsj0eUeC"
      }
    },
    {
      "cell_type": "code",
      "source": [
        "southeast_cases= Covid_19[Covid_19['WHO_region']=='SEARO']\n",
        "#  top ten most affected countries\n",
        "# top_countries=southeast_cases.sort_values('Cumulative_cases',ascending=False).head(10)\n",
        "# top_countries[['Country','Cumulative_cases']]\n",
        "\n",
        "southeast_cases = pd.DataFrame(southeast_cases.groupby(\"Country\")['Cumulative_cases']\n",
        "                               .agg('sum')).sort_values(by='Cumulative_cases',ascending=False,axis=0)\n",
        "southeast_cases.head()"
      ],
      "metadata": {
        "execution": {
          "iopub.status.busy": "2022-12-18T00:02:44.818859Z",
          "iopub.execute_input": "2022-12-18T00:02:44.819444Z",
          "iopub.status.idle": "2022-12-18T00:02:44.852813Z",
          "shell.execute_reply.started": "2022-12-18T00:02:44.819401Z",
          "shell.execute_reply": "2022-12-18T00:02:44.851611Z"
        },
        "trusted": true,
        "id": "LbGdxoymeUeD"
      },
      "execution_count": null,
      "outputs": []
    },
    {
      "cell_type": "code",
      "source": [
        "southeast_cases.head(10).plot(kind='bar',  xlabel = 'Country', ylabel = 'No. of Cumulative cases',title = 'Top ten affected countries(SEARO)')\n",
        "plt.show()"
      ],
      "metadata": {
        "execution": {
          "iopub.status.busy": "2022-12-18T00:02:44.855008Z",
          "iopub.execute_input": "2022-12-18T00:02:44.855498Z",
          "iopub.status.idle": "2022-12-18T00:02:45.241409Z",
          "shell.execute_reply.started": "2022-12-18T00:02:44.85546Z",
          "shell.execute_reply": "2022-12-18T00:02:45.240305Z"
        },
        "trusted": true,
        "id": "cH5w5Ft4eUeE"
      },
      "execution_count": null,
      "outputs": []
    },
    {
      "cell_type": "code",
      "source": [
        "southeast_cases.head(8).unstack(level=0).plot(\n",
        "    kind='pie',\n",
        "    stacked=True,\n",
        "    subplots=True,\n",
        "    autopct='%1.1f%%',\n",
        "    figsize=(15, 10),\n",
        "    legend=False,\n",
        "    )\n",
        "plt.show()"
      ],
      "metadata": {
        "execution": {
          "iopub.status.busy": "2022-12-18T00:02:45.244844Z",
          "iopub.execute_input": "2022-12-18T00:02:45.24554Z",
          "iopub.status.idle": "2022-12-18T00:02:45.388929Z",
          "shell.execute_reply.started": "2022-12-18T00:02:45.245486Z",
          "shell.execute_reply": "2022-12-18T00:02:45.387854Z"
        },
        "trusted": true,
        "id": "BA5yQckpeUeE"
      },
      "execution_count": null,
      "outputs": []
    },
    {
      "cell_type": "code",
      "source": [
        "southeast_cases= Covid_19[Covid_19['WHO_region']=='SEARO']\n",
        "# sum of total cases in South east Asia\n",
        "\n",
        "print('South East Asia has a total Cumulative Cases of about', southeast_cases['Cumulative_cases'].sum())"
      ],
      "metadata": {
        "execution": {
          "iopub.status.busy": "2022-12-18T00:02:45.390573Z",
          "iopub.execute_input": "2022-12-18T00:02:45.390911Z",
          "iopub.status.idle": "2022-12-18T00:02:45.417606Z",
          "shell.execute_reply.started": "2022-12-18T00:02:45.390878Z",
          "shell.execute_reply": "2022-12-18T00:02:45.416466Z"
        },
        "trusted": true,
        "id": "grM-VeiReUeF"
      },
      "execution_count": null,
      "outputs": []
    },
    {
      "cell_type": "markdown",
      "source": [
        "## Cumulative Deaths"
      ],
      "metadata": {
        "id": "IoCv3tAieUeF"
      }
    },
    {
      "cell_type": "code",
      "source": [
        "# Top ten cases in South east Asia\n",
        "southeast_death_cases=Covid_19[Covid_19['WHO_region']=='SEARO']\n",
        "southeast_death_cases = pd.DataFrame(southeast_death_cases.groupby(\"Country\")['Cumulative_deaths']\n",
        "                               .agg('sum')).sort_values(by='Cumulative_deaths',ascending=False,axis=0)\n",
        "\n",
        "southeast_death_cases.head(10)"
      ],
      "metadata": {
        "execution": {
          "iopub.status.busy": "2022-12-18T00:02:45.419514Z",
          "iopub.execute_input": "2022-12-18T00:02:45.419855Z",
          "iopub.status.idle": "2022-12-18T00:02:45.460532Z",
          "shell.execute_reply.started": "2022-12-18T00:02:45.419824Z",
          "shell.execute_reply": "2022-12-18T00:02:45.459476Z"
        },
        "trusted": true,
        "id": "wiNIVKwweUeG"
      },
      "execution_count": null,
      "outputs": []
    },
    {
      "cell_type": "code",
      "source": [
        "southeast_death_cases.head(10).plot(kind='bar',  xlabel = 'Country', ylabel = 'No. of Cumulative deaths',title = 'Top ten affected countries(SEARO)')\n",
        "plt.show()"
      ],
      "metadata": {
        "execution": {
          "iopub.status.busy": "2022-12-18T00:02:45.462284Z",
          "iopub.execute_input": "2022-12-18T00:02:45.462737Z",
          "iopub.status.idle": "2022-12-18T00:02:45.658299Z",
          "shell.execute_reply.started": "2022-12-18T00:02:45.462689Z",
          "shell.execute_reply": "2022-12-18T00:02:45.657067Z"
        },
        "trusted": true,
        "id": "jyTZVBxweUeJ"
      },
      "execution_count": null,
      "outputs": []
    },
    {
      "cell_type": "code",
      "source": [
        "southeast_death_cases.head(5).unstack(level=0).plot(\n",
        "    kind='pie',\n",
        "    stacked=True,\n",
        "    subplots=True,\n",
        "    autopct='%1.1f%%',\n",
        "    figsize=(15, 10),\n",
        "    legend=False,\n",
        "    )\n",
        "plt.show()"
      ],
      "metadata": {
        "execution": {
          "iopub.status.busy": "2022-12-18T00:02:45.660045Z",
          "iopub.execute_input": "2022-12-18T00:02:45.660376Z",
          "iopub.status.idle": "2022-12-18T00:02:45.777157Z",
          "shell.execute_reply.started": "2022-12-18T00:02:45.660342Z",
          "shell.execute_reply": "2022-12-18T00:02:45.776031Z"
        },
        "trusted": true,
        "id": "vHPu2ILWeUeK"
      },
      "execution_count": null,
      "outputs": []
    },
    {
      "cell_type": "code",
      "source": [
        "southeast_death_cases= Covid_19[Covid_19['WHO_region']=='SEARO']\n",
        "# sum of total cases in South east Asia\n",
        "\n",
        "\n",
        "print('South East Asia has a total Cumulative Deaths of about', southeast_death_cases['Cumulative_deaths'].sum())"
      ],
      "metadata": {
        "execution": {
          "iopub.status.busy": "2022-12-18T00:02:45.778778Z",
          "iopub.execute_input": "2022-12-18T00:02:45.779124Z",
          "iopub.status.idle": "2022-12-18T00:02:45.80562Z",
          "shell.execute_reply.started": "2022-12-18T00:02:45.779093Z",
          "shell.execute_reply": "2022-12-18T00:02:45.804374Z"
        },
        "trusted": true,
        "id": "5wrPHdgeeUeL"
      },
      "execution_count": null,
      "outputs": []
    },
    {
      "cell_type": "markdown",
      "source": [
        "## Coronavirus cases in Europe which is EURO"
      ],
      "metadata": {
        "id": "fH0njd0UeUeL"
      }
    },
    {
      "cell_type": "code",
      "source": [
        "europe_cases = Covid_19[Covid_19['WHO_region']=='EURO']\n",
        "#  top ten most affected countries\n",
        "europe_cases = pd.DataFrame(europe_cases.groupby(\"Country\")['Cumulative_cases']\n",
        "                               .agg('sum')).sort_values(by='Cumulative_cases',ascending=False,axis=0)\n",
        "europe_cases.head()"
      ],
      "metadata": {
        "execution": {
          "iopub.status.busy": "2022-12-18T00:02:45.807447Z",
          "iopub.execute_input": "2022-12-18T00:02:45.807946Z",
          "iopub.status.idle": "2022-12-18T00:02:45.854115Z",
          "shell.execute_reply.started": "2022-12-18T00:02:45.807871Z",
          "shell.execute_reply": "2022-12-18T00:02:45.853151Z"
        },
        "trusted": true,
        "id": "bGfy_ZdHeUeM"
      },
      "execution_count": null,
      "outputs": []
    },
    {
      "cell_type": "code",
      "source": [
        "europe_cases.head(10).plot(kind='bar',  xlabel = 'Country', ylabel = 'No. of Cumulative cases',title = 'Top ten affected countries(SEARO)')\n",
        "plt.show()"
      ],
      "metadata": {
        "execution": {
          "iopub.status.busy": "2022-12-18T00:02:45.858105Z",
          "iopub.execute_input": "2022-12-18T00:02:45.858487Z",
          "iopub.status.idle": "2022-12-18T00:02:46.057416Z",
          "shell.execute_reply.started": "2022-12-18T00:02:45.85845Z",
          "shell.execute_reply": "2022-12-18T00:02:46.056221Z"
        },
        "trusted": true,
        "id": "OWsf44vbeUeN"
      },
      "execution_count": null,
      "outputs": []
    },
    {
      "cell_type": "code",
      "source": [
        "europe_cases.head(10).unstack(level=0).plot(\n",
        "    kind='pie',\n",
        "    stacked=True,\n",
        "    subplots=True,\n",
        "    autopct='%1.1f%%',\n",
        "    figsize=(15, 10),\n",
        "    legend=False,\n",
        "    )\n",
        "plt.show()"
      ],
      "metadata": {
        "execution": {
          "iopub.status.busy": "2022-12-18T00:02:46.060184Z",
          "iopub.execute_input": "2022-12-18T00:02:46.060543Z",
          "iopub.status.idle": "2022-12-18T00:02:46.224158Z",
          "shell.execute_reply.started": "2022-12-18T00:02:46.06051Z",
          "shell.execute_reply": "2022-12-18T00:02:46.222787Z"
        },
        "trusted": true,
        "id": "9G9OGqnYeUeN"
      },
      "execution_count": null,
      "outputs": []
    },
    {
      "cell_type": "code",
      "source": [
        "europe_cases = Covid_19[Covid_19['WHO_region']=='EURO']\n",
        "# sum of total cases in Europe\n",
        "\n",
        "print('Europe has a total Cumulative Cases of about', europe_cases['Cumulative_cases'].sum())"
      ],
      "metadata": {
        "execution": {
          "iopub.status.busy": "2022-12-18T00:02:46.225685Z",
          "iopub.execute_input": "2022-12-18T00:02:46.226055Z",
          "iopub.status.idle": "2022-12-18T00:02:46.25711Z",
          "shell.execute_reply.started": "2022-12-18T00:02:46.226016Z",
          "shell.execute_reply": "2022-12-18T00:02:46.255583Z"
        },
        "trusted": true,
        "id": "AVN_Z1dteUeO"
      },
      "execution_count": null,
      "outputs": []
    },
    {
      "cell_type": "markdown",
      "source": [
        "## Cumulative Deaths"
      ],
      "metadata": {
        "id": "RO5mag4meUeP"
      }
    },
    {
      "cell_type": "code",
      "source": [
        "europe_deaths_cases = Covid_19[Covid_19['WHO_region']=='EURO']\n",
        "# sum of total cases in Europe\n",
        "europe_deaths_cases = pd.DataFrame(europe_deaths_cases.groupby(\"Country\")['Cumulative_deaths']\n",
        "                               .agg('sum')).sort_values(by='Cumulative_deaths',ascending=False,axis=0)"
      ],
      "metadata": {
        "execution": {
          "iopub.status.busy": "2022-12-18T00:02:46.259203Z",
          "iopub.execute_input": "2022-12-18T00:02:46.259719Z",
          "iopub.status.idle": "2022-12-18T00:02:46.300913Z",
          "shell.execute_reply.started": "2022-12-18T00:02:46.259671Z",
          "shell.execute_reply": "2022-12-18T00:02:46.300009Z"
        },
        "trusted": true,
        "id": "uxzUSia2eUeP"
      },
      "execution_count": null,
      "outputs": []
    },
    {
      "cell_type": "code",
      "source": [
        "europe_deaths_cases.head(10)"
      ],
      "metadata": {
        "execution": {
          "iopub.status.busy": "2022-12-18T00:02:46.302514Z",
          "iopub.execute_input": "2022-12-18T00:02:46.303177Z",
          "iopub.status.idle": "2022-12-18T00:02:46.318816Z",
          "shell.execute_reply.started": "2022-12-18T00:02:46.303126Z",
          "shell.execute_reply": "2022-12-18T00:02:46.317416Z"
        },
        "trusted": true,
        "id": "505JH1Q4eUeQ"
      },
      "execution_count": null,
      "outputs": []
    },
    {
      "cell_type": "code",
      "source": [
        "europe_deaths_cases.head(10).plot(kind='bar',  xlabel = 'Country', ylabel = 'No. of Cumulative deaths',title = 'Top ten affected countries(EURO)')\n",
        "plt.show()"
      ],
      "metadata": {
        "execution": {
          "iopub.status.busy": "2022-12-18T00:02:46.321201Z",
          "iopub.execute_input": "2022-12-18T00:02:46.321626Z",
          "iopub.status.idle": "2022-12-18T00:02:46.526654Z",
          "shell.execute_reply.started": "2022-12-18T00:02:46.321591Z",
          "shell.execute_reply": "2022-12-18T00:02:46.525316Z"
        },
        "trusted": true,
        "id": "_gO_PsnUeUeQ"
      },
      "execution_count": null,
      "outputs": []
    },
    {
      "cell_type": "code",
      "source": [
        "europe_deaths_cases.head(10).unstack(level=0).plot(\n",
        "    kind='pie',\n",
        "    stacked=True,\n",
        "    subplots=True,\n",
        "    autopct='%1.1f%%',\n",
        "    figsize=(15, 10),\n",
        "    legend=False,\n",
        "    )\n",
        "plt.show()"
      ],
      "metadata": {
        "execution": {
          "iopub.status.busy": "2022-12-18T00:02:46.52865Z",
          "iopub.execute_input": "2022-12-18T00:02:46.528997Z",
          "iopub.status.idle": "2022-12-18T00:02:46.689538Z",
          "shell.execute_reply.started": "2022-12-18T00:02:46.528965Z",
          "shell.execute_reply": "2022-12-18T00:02:46.688099Z"
        },
        "trusted": true,
        "id": "RxpJ7xCkeUeR"
      },
      "execution_count": null,
      "outputs": []
    },
    {
      "cell_type": "code",
      "source": [
        "europe_deaths_cases = Covid_19[Covid_19['WHO_region']=='EURO']\n",
        "# sum of total cases in Europe\n",
        "\n",
        "print('Europe has a total Cumulative Deaths of about', europe_deaths_cases['Cumulative_deaths'].sum())"
      ],
      "metadata": {
        "execution": {
          "iopub.status.busy": "2022-12-18T00:02:46.691546Z",
          "iopub.execute_input": "2022-12-18T00:02:46.692046Z",
          "iopub.status.idle": "2022-12-18T00:02:46.724571Z",
          "shell.execute_reply.started": "2022-12-18T00:02:46.691996Z",
          "shell.execute_reply": "2022-12-18T00:02:46.722885Z"
        },
        "trusted": true,
        "id": "VVaG_6bReUeR"
      },
      "execution_count": null,
      "outputs": []
    },
    {
      "cell_type": "markdown",
      "source": [
        "In 2021, after the lockdown, Russia had the world's second-highest death toll from the COVID-19 pandemic, behind the United States, <a href='https://www.rand.org/pubs/research_briefs/RB5056.html'>Many attributed</a>it to the increased deaths due to accidents, injuries, violence, and other preventable causes and it was suggested that broader public health education, similar to that in the United States, can help Russians improve health behaviours while <a href='https://www.reuters.com/world/europe/russias-covid-19-death-toll-climbs-worlds-second-highest-2021-12-30/'>others</a> blamed it on the vaccination rate."
      ],
      "metadata": {
        "id": "K3dZJ26HeUeS"
      }
    },
    {
      "cell_type": "markdown",
      "source": [
        "## Coronavirus cases in Eastern Mediterranean which is EMRO\n",
        "\n",
        "The countries and territories of the Eastern Mediterranean include Cyprus, Turkey (Anatolia), its smaller Hatay Province, the Greek Dodecanese islands, and the countries of Lebanon, Syria, Palestine, Israel, Jordan and Egypt."
      ],
      "metadata": {
        "id": "wYmfTMIXeUeS"
      }
    },
    {
      "cell_type": "code",
      "source": [
        "emro_cases = Covid_19[Covid_19['WHO_region']=='EMRO']\n",
        "#  top ten most affected countries\n",
        "emro_cases = pd.DataFrame(emro_cases.groupby(\"Country\")['Cumulative_cases']\n",
        "                               .agg('sum')).sort_values(by='Cumulative_cases',ascending=False,axis=0)"
      ],
      "metadata": {
        "execution": {
          "iopub.status.busy": "2022-12-18T00:02:46.727165Z",
          "iopub.execute_input": "2022-12-18T00:02:46.727655Z",
          "iopub.status.idle": "2022-12-18T00:02:46.762724Z",
          "shell.execute_reply.started": "2022-12-18T00:02:46.727606Z",
          "shell.execute_reply": "2022-12-18T00:02:46.761409Z"
        },
        "trusted": true,
        "id": "ivCYXg_geUeT"
      },
      "execution_count": null,
      "outputs": []
    },
    {
      "cell_type": "code",
      "source": [
        "emro_cases.head(10).plot(kind='bar',  xlabel = 'Country', ylabel = 'No. of Cumulative cases',title = 'Top ten affected countries(EMRO)')\n",
        "plt.show()"
      ],
      "metadata": {
        "execution": {
          "iopub.status.busy": "2022-12-18T00:02:46.764526Z",
          "iopub.execute_input": "2022-12-18T00:02:46.764864Z",
          "iopub.status.idle": "2022-12-18T00:02:46.992135Z",
          "shell.execute_reply.started": "2022-12-18T00:02:46.764832Z",
          "shell.execute_reply": "2022-12-18T00:02:46.990684Z"
        },
        "trusted": true,
        "id": "dj__pH3HeUeT"
      },
      "execution_count": null,
      "outputs": []
    },
    {
      "cell_type": "code",
      "source": [
        "# plt.pie(top_countries['Cumulative_cases'],labels=top_countries['Country'])\n",
        "# plt.show()\n",
        "\n",
        "emro_cases.head(10).unstack(level=0).plot(\n",
        "    kind='pie',\n",
        "    stacked=True,\n",
        "    subplots=True,\n",
        "    autopct='%1.1f%%',\n",
        "    figsize=(15, 10),\n",
        "    legend=False,\n",
        "    )\n",
        "plt.show()"
      ],
      "metadata": {
        "execution": {
          "iopub.status.busy": "2022-12-18T00:02:46.993797Z",
          "iopub.execute_input": "2022-12-18T00:02:46.994187Z",
          "iopub.status.idle": "2022-12-18T00:02:47.169095Z",
          "shell.execute_reply.started": "2022-12-18T00:02:46.994151Z",
          "shell.execute_reply": "2022-12-18T00:02:47.168053Z"
        },
        "trusted": true,
        "id": "umSIYd5NeUeU"
      },
      "execution_count": null,
      "outputs": []
    },
    {
      "cell_type": "code",
      "source": [
        "emro_cases= Covid_19[Covid_19['WHO_region']=='EMRO']\n",
        "# sum of total cases in Eastern Mediterranean\n",
        "\n",
        "print('Eastern Mediterranean has a total Cumulative Cases of about', emro_cases['Cumulative_cases'].sum())"
      ],
      "metadata": {
        "execution": {
          "iopub.status.busy": "2022-12-18T00:02:47.170845Z",
          "iopub.execute_input": "2022-12-18T00:02:47.171257Z",
          "iopub.status.idle": "2022-12-18T00:02:47.203171Z",
          "shell.execute_reply.started": "2022-12-18T00:02:47.171219Z",
          "shell.execute_reply": "2022-12-18T00:02:47.201283Z"
        },
        "trusted": true,
        "id": "iKDUQVC4eUeV"
      },
      "execution_count": null,
      "outputs": []
    },
    {
      "cell_type": "markdown",
      "source": [
        "## Cumulative Deaths"
      ],
      "metadata": {
        "id": "YtPEjHbqeUeV"
      }
    },
    {
      "cell_type": "code",
      "source": [
        "emro_death_cases = Covid_19[Covid_19['WHO_region']=='EMRO']\n",
        "# sum of total cases in Europe\n",
        "# emro_death_cases[['Country','Cumulative_deaths','New_deaths']]\n",
        "\n",
        "emro_death_cases = pd.DataFrame(emro_death_cases.groupby(\"Country\")['Cumulative_deaths']\n",
        "                               .agg('sum')).sort_values(by='Cumulative_deaths',ascending=False,axis=0)"
      ],
      "metadata": {
        "execution": {
          "iopub.status.busy": "2022-12-18T00:02:47.207392Z",
          "iopub.execute_input": "2022-12-18T00:02:47.207771Z",
          "iopub.status.idle": "2022-12-18T00:02:47.240595Z",
          "shell.execute_reply.started": "2022-12-18T00:02:47.20773Z",
          "shell.execute_reply": "2022-12-18T00:02:47.239608Z"
        },
        "trusted": true,
        "id": "2k_nXr9heUeW"
      },
      "execution_count": null,
      "outputs": []
    },
    {
      "cell_type": "code",
      "source": [
        "# top_countries=emro_death_cases.sort_values('Cumulative_deaths',ascending=False)\n",
        "# top_countries=top_countries[['Country','Cumulative_deaths','New_deaths']].head(10)\n",
        "# top_countries\n",
        "\n",
        "emro_death_cases.head(10).plot(kind='bar',  xlabel = 'Country', ylabel = 'No. of Cumulative deaths',title = 'Top ten affected countries(EMRO)')\n",
        "plt.show()"
      ],
      "metadata": {
        "execution": {
          "iopub.status.busy": "2022-12-18T00:02:47.242073Z",
          "iopub.execute_input": "2022-12-18T00:02:47.242556Z",
          "iopub.status.idle": "2022-12-18T00:02:47.430709Z",
          "shell.execute_reply.started": "2022-12-18T00:02:47.242521Z",
          "shell.execute_reply": "2022-12-18T00:02:47.429872Z"
        },
        "trusted": true,
        "id": "uNvn3yiOeUeW"
      },
      "execution_count": null,
      "outputs": []
    },
    {
      "cell_type": "code",
      "source": [
        "emro_death_cases.head(10).unstack(level=0).plot(\n",
        "    kind='pie',\n",
        "    stacked=True,\n",
        "    subplots=True,\n",
        "    autopct='%1.1f%%',\n",
        "    figsize=(15, 10),\n",
        "    legend=False,\n",
        "    )\n",
        "plt.show()"
      ],
      "metadata": {
        "execution": {
          "iopub.status.busy": "2022-12-18T00:02:47.431961Z",
          "iopub.execute_input": "2022-12-18T00:02:47.432319Z",
          "iopub.status.idle": "2022-12-18T00:02:47.587636Z",
          "shell.execute_reply.started": "2022-12-18T00:02:47.432286Z",
          "shell.execute_reply": "2022-12-18T00:02:47.586828Z"
        },
        "trusted": true,
        "id": "fX0UI6JXeUeX"
      },
      "execution_count": null,
      "outputs": []
    },
    {
      "cell_type": "code",
      "source": [
        "emro_death_cases = Covid_19[Covid_19['WHO_region']=='EMRO']\n",
        "# sum of total cases in Eastern Mediterranean\n",
        "\n",
        "print('Eastern Mediterranean has a total Cumulative Cases of about', emro_death_cases['Cumulative_deaths'].sum())"
      ],
      "metadata": {
        "execution": {
          "iopub.status.busy": "2022-12-18T00:02:47.589052Z",
          "iopub.execute_input": "2022-12-18T00:02:47.589376Z",
          "iopub.status.idle": "2022-12-18T00:02:47.617648Z",
          "shell.execute_reply.started": "2022-12-18T00:02:47.589343Z",
          "shell.execute_reply": "2022-12-18T00:02:47.615949Z"
        },
        "trusted": true,
        "id": "C4pwkru-eUeZ"
      },
      "execution_count": null,
      "outputs": []
    },
    {
      "cell_type": "markdown",
      "source": [
        "`Iran` seems to have it worst among the countries in the Eastern Mediterranean, the fear of the economy collapsing when restrictions are put in place is one of the major factors that was said to have caused the virus. Iran is a country with a high population, and they have a number of poor citizens. <a href='https://www.atlanticcouncil.org/blogs/iransource/irans-covid-19-deaths-2-5-times-higher-than-healthy-ministry-numbers/'> Iranians</a>  also attribute inadequate testing and a slow rollout of vaccines to policies ordered by Supreme Leader Ayatollah Ali Khamenei. Despite all warnings, the regime has told Iranians to return to normal life, risking a new rise in cases as schools reopen and workers return to their offices."
      ],
      "metadata": {
        "id": "t_HenDkieUea"
      }
    },
    {
      "cell_type": "markdown",
      "source": [
        "# Coronavirus cases in Western Pacific which is WPRO\n",
        "\n",
        "Countries in western pacific includes American Samoa, Australia, Brunei Darussalam, Cambodia, China, Cook Islands, Fiji, Guam, Hong Kong,Japan, Kiribati, Korea, Republic of Lao People’s Democratic Republic, Macau, Malaysia, Marshall Islands, Micronesia, Federated States of Mongolia, Nauru, New Zealand,Niue, Northern Mariana Islands,Palau, Papua New Guinea,Philippines, Samoa, Singapore, Solomon Islands, Taiwan, Tokelau, Tonga, Tuvalu,Vanuatu and Viet Nam"
      ],
      "metadata": {
        "id": "AGopWUh8eUea"
      }
    },
    {
      "cell_type": "code",
      "source": [
        "wpro_cases = Covid_19[Covid_19['WHO_region']=='WPRO']\n",
        "#  top ten most affected countries\n",
        "# top_countries=emro_cases.sort_values('Cumulative_cases',ascending=False).head(10)\n",
        "# top_countries[['Country','Cumulative_cases']]\n",
        "\n",
        "wpro_cases = pd.DataFrame(wpro_cases.groupby(\"Country\")['Cumulative_cases']\n",
        "                               .agg('sum')).sort_values(by='Cumulative_cases',ascending=False,axis=0)"
      ],
      "metadata": {
        "execution": {
          "iopub.status.busy": "2022-12-18T00:02:47.6196Z",
          "iopub.execute_input": "2022-12-18T00:02:47.620033Z",
          "iopub.status.idle": "2022-12-18T00:02:47.663249Z",
          "shell.execute_reply.started": "2022-12-18T00:02:47.619976Z",
          "shell.execute_reply": "2022-12-18T00:02:47.661733Z"
        },
        "trusted": true,
        "id": "sDS3ME6SeUeb"
      },
      "execution_count": null,
      "outputs": []
    },
    {
      "cell_type": "code",
      "source": [
        "# visualize\n",
        "# plt.bar(top_countries['Country'],top_countries['Cumulative_cases'],color=\"red\")\n",
        "# plt.xticks(rotation=90)\n",
        "# plt.title(\"Top ten affected countries(Eastern Mediterranean)\")\n",
        "# plt.xlabel('countries')\n",
        "# plt.ylabel('Total covid cases(millions)')\n",
        "# plt.show()\n",
        "\n",
        "wpro_cases.head(10).plot(kind='bar',  xlabel = 'Country', ylabel = 'No. of Cumulative cases',title = 'Top ten affected countries(WPRO)')\n",
        "plt.show()"
      ],
      "metadata": {
        "execution": {
          "iopub.status.busy": "2022-12-18T00:02:47.665346Z",
          "iopub.execute_input": "2022-12-18T00:02:47.665705Z",
          "iopub.status.idle": "2022-12-18T00:02:47.870246Z",
          "shell.execute_reply.started": "2022-12-18T00:02:47.665671Z",
          "shell.execute_reply": "2022-12-18T00:02:47.869377Z"
        },
        "trusted": true,
        "id": "9F2Wg8abeUec"
      },
      "execution_count": null,
      "outputs": []
    },
    {
      "cell_type": "code",
      "source": [
        "wpro_cases.head(10).unstack(level=0).plot(\n",
        "    kind='pie',\n",
        "    stacked=True,\n",
        "    subplots=True,\n",
        "    autopct='%1.1f%%',\n",
        "    figsize=(15, 10),\n",
        "    legend=False,\n",
        "    )\n",
        "plt.show()"
      ],
      "metadata": {
        "execution": {
          "iopub.status.busy": "2022-12-18T00:02:47.871651Z",
          "iopub.execute_input": "2022-12-18T00:02:47.872185Z",
          "iopub.status.idle": "2022-12-18T00:02:48.224838Z",
          "shell.execute_reply.started": "2022-12-18T00:02:47.872129Z",
          "shell.execute_reply": "2022-12-18T00:02:48.223627Z"
        },
        "trusted": true,
        "id": "8Gwq28W0eUec"
      },
      "execution_count": null,
      "outputs": []
    },
    {
      "cell_type": "code",
      "source": [
        "wpro_cases= Covid_19[Covid_19['WHO_region']=='WPRO']\n",
        "# sum of total cases in Western Pacific\n",
        "\n",
        "print('Western Pacific has a total Cumulative Cases of about', wpro_cases['Cumulative_cases'].sum())"
      ],
      "metadata": {
        "execution": {
          "iopub.status.busy": "2022-12-18T00:02:48.226484Z",
          "iopub.execute_input": "2022-12-18T00:02:48.226795Z",
          "iopub.status.idle": "2022-12-18T00:02:48.257254Z",
          "shell.execute_reply.started": "2022-12-18T00:02:48.226764Z",
          "shell.execute_reply": "2022-12-18T00:02:48.255834Z"
        },
        "trusted": true,
        "id": "JbHhiAV7eUed"
      },
      "execution_count": null,
      "outputs": []
    },
    {
      "cell_type": "markdown",
      "source": [
        "## Cumulative Deaths"
      ],
      "metadata": {
        "id": "ZvobQDKLeUed"
      }
    },
    {
      "cell_type": "code",
      "source": [
        "wpro_death_cases = Covid_19[Covid_19['WHO_region']=='WPRO']\n",
        "# sum of total cases in Western Pacific\n",
        "emro_death_cases[['Country','Cumulative_deaths','New_deaths']]\n",
        "\n",
        "wpro_death_cases = pd.DataFrame(wpro_death_cases.groupby(\"Country\")['Cumulative_deaths']\n",
        "                               .agg('sum')).sort_values(by='Cumulative_deaths',ascending=False,axis=0)"
      ],
      "metadata": {
        "execution": {
          "iopub.status.busy": "2022-12-18T00:02:48.259052Z",
          "iopub.execute_input": "2022-12-18T00:02:48.25939Z",
          "iopub.status.idle": "2022-12-18T00:02:48.297544Z",
          "shell.execute_reply.started": "2022-12-18T00:02:48.259357Z",
          "shell.execute_reply": "2022-12-18T00:02:48.29656Z"
        },
        "trusted": true,
        "id": "-TjGqdiSeUee"
      },
      "execution_count": null,
      "outputs": []
    },
    {
      "cell_type": "code",
      "source": [
        "wpro_death_cases.head(10).plot(kind='bar',  xlabel = 'Country', ylabel = 'No. of Cumulative deaths',title = 'Top ten affected countries(WPRO)')\n",
        "plt.show()"
      ],
      "metadata": {
        "execution": {
          "iopub.status.busy": "2022-12-18T00:02:48.298823Z",
          "iopub.execute_input": "2022-12-18T00:02:48.299317Z",
          "iopub.status.idle": "2022-12-18T00:02:48.50182Z",
          "shell.execute_reply.started": "2022-12-18T00:02:48.299282Z",
          "shell.execute_reply": "2022-12-18T00:02:48.500513Z"
        },
        "trusted": true,
        "id": "dy-AzJBleUee"
      },
      "execution_count": null,
      "outputs": []
    },
    {
      "cell_type": "code",
      "source": [
        "# plt.pie(top_countries['Total_deaths'],labels=top_countries['Countries'])\n",
        "# plt.show()\n",
        "wpro_death_cases.head(10).unstack(level=0).plot(\n",
        "    kind='pie',\n",
        "    stacked=True,\n",
        "    subplots=True,\n",
        "    autopct='%1.1f%%',\n",
        "    figsize=(15, 10),\n",
        "    legend=False,\n",
        "    )\n",
        "plt.show()"
      ],
      "metadata": {
        "execution": {
          "iopub.status.busy": "2022-12-18T00:02:48.503328Z",
          "iopub.execute_input": "2022-12-18T00:02:48.503641Z",
          "iopub.status.idle": "2022-12-18T00:02:48.665198Z",
          "shell.execute_reply.started": "2022-12-18T00:02:48.503607Z",
          "shell.execute_reply": "2022-12-18T00:02:48.66379Z"
        },
        "trusted": true,
        "id": "zaYwADBReUef"
      },
      "execution_count": null,
      "outputs": []
    },
    {
      "cell_type": "code",
      "source": [
        "wpro_death_cases = Covid_19[Covid_19['WHO_region']=='WPRO']\n",
        "# sum of total cases in Western Pacific\n",
        "print('Western Pacific has a total Cumulative Cases of about', wpro_death_cases['Cumulative_deaths'].sum())"
      ],
      "metadata": {
        "execution": {
          "iopub.status.busy": "2022-12-18T00:02:48.667243Z",
          "iopub.execute_input": "2022-12-18T00:02:48.66768Z",
          "iopub.status.idle": "2022-12-18T00:02:48.697848Z",
          "shell.execute_reply.started": "2022-12-18T00:02:48.667634Z",
          "shell.execute_reply": "2022-12-18T00:02:48.696323Z"
        },
        "trusted": true,
        "id": "_cDAEgAieUef"
      },
      "execution_count": null,
      "outputs": []
    },
    {
      "cell_type": "markdown",
      "source": [
        "The Republic of Korea (South Korea) is one of the first countries to experience a COVID-19 outbreak and it was handled quite well with the relatively low number of cumulative deaths that they have, within two months they were <a href='https://direct.mit.edu/asep/article/20/2/41/97312/COVID-19-in-Korea-Success-Based-on-Past-Failure'>repotred able to stop the massive transmission of the virus </a>\n",
        "\n",
        "While the Philippines, a country of about 111 million people, reported more deaths. it was <a href='https://www.aljazeera.com/news/2022/1/18/philippine-covid-deaths-may-be-double-than-current-number-report'>reported</a> that the rise in death cases was due to other underlining health challenges like heart diseases, stroke, cancer and respiratory diseases such as tuberculosis which were exacerbated by Covid19.\n",
        "\n",
        "`Australia` had the fewest deaths (7,809). This is attributable to the Australian government's prompt action, which resulted in the imposition of limitations as soon as the first coronavirus case was reported. Lockdowns and restrictions on travel and movement helped to greatly slow the spread of the virus. Among the restrictions that were implemented were the 150-person limit for nightclubs and places of worship, as well as the requirement that spaces hold no more than two square metres of space between each other. Cinemas and stadiums are subject to several limitations, including a 50% capacity limit. For more information, please visit"
      ],
      "metadata": {
        "id": "vCQ7dTXzeUeg"
      }
    },
    {
      "cell_type": "markdown",
      "source": [
        "`The USA` seems to have the highest number of deaths again, followed closely by Brazil this time, then India. There seems to be a change in the list of countries with death cases as compared to the countries with new cases. The following explanation of the causes of the high number of instances in the USA highlights the first and most important factor: the <a href='https://www.cbsnews.com/news/us-covid-19-cases-testing/'> tardy response.</a> The US government took a long time to respond to the problem, which allowed the virus to spread further. The US government took a long time to set up a health care system, stop other travel, and do COVID-19 tests. Additionally, the populace was unaware of the rules established to stop the virus's transmission, such as banning the wearing of facial coverings. Some states in the United States lacked the testing infrastructure needed to thoroughly test their residents.You can <a href='https://www.science.org/content/article/united-states-leads-coronavirus-cases-not-pandemic-response'> read</a> about it\n",
        "\n",
        "\n",
        "While on the WHO databank, the Democratic People's Republic of Korea seems not to have any cases reported, In the <a href='https://reliefweb.int/report/democratic-peoples-republic-korea/covid-19-north-korea-state-fuelled-tragedy'>news</a> and from official releases so far there seems to national crises over there in the country so there must be like rancour between the two parties, from <a href='https://covid19.who.int/region/wpro/country/tk'> WHO</a> database, Tokelau a country of about 1,398 according to <a href='https://www.worldometers.info/world-population/tokelau-population/'>worldmeter</a> has been vaccinated largely, and they've been able to curtail the virus to the bare minimum.\n",
        "\n",
        "Countries like `India` and `Brazil` had it very bad at the beginning of the pandemic because of their population and it was so severe that <a href='https://www.washingtonpost.com/world/2021/04/27/india-covid-surge-faq/'>WHO declared them an epicentre </a>\n",
        "\n",
        "`In 2020`; at the beginning of the pandemic when proper measures hadn't been put in place yet we had top countries like the USA, India, Brazil, Russia, France, the UK, Turkey, Italy, Spain and Germany among the heavily hit countries, while `In 2021` we still had same countries in top 10 but Germany moved some places higher due to several reasons like a large number of unvaccinated people, waning immunity, fewer contact restrictions, the new variant more infectious and seasonal effects more about it can be read <a href='https://www.dw.com/en/5-reasons-germanys-covid-19-infections-are-soaring/a-59793087'>here</a> while Russia moved some places down due to how they have been able to restrict movement among their people.\n",
        "\n",
        "Meanwhile `In 2022` we still USA has the world number and Germany, France, the republic of Korea, Japan, Italy, brazil, Russia, the UK, and Australia; Now every country has opened up because of the belief we all have in the vaccine, we have seen a reduced in the number of covid19 death cases but it's still on the rise. the vaccine has helped mitigate its effects.\n",
        ""
      ],
      "metadata": {
        "id": "LCtgtjyMeUeh"
      }
    },
    {
      "cell_type": "markdown",
      "source": [
        "## Looking at the Vaccination database\n",
        "\n",
        "To intrigue further at why the USA seem to have such numbers in the number of deaths and cases, I'd intrigue further using the vaccination database"
      ],
      "metadata": {
        "id": "msaYp9fJeUeh"
      }
    },
    {
      "cell_type": "code",
      "source": [
        "Vaccinated =pd.read_csv('https://covid19.who.int/who-data/vaccination-data.csv')\n",
        "\n",
        "Vaccinated.head()"
      ],
      "metadata": {
        "execution": {
          "iopub.status.busy": "2022-12-18T00:02:48.699716Z",
          "iopub.execute_input": "2022-12-18T00:02:48.700153Z",
          "iopub.status.idle": "2022-12-18T00:02:49.116197Z",
          "shell.execute_reply.started": "2022-12-18T00:02:48.700114Z",
          "shell.execute_reply": "2022-12-18T00:02:49.1148Z"
        },
        "trusted": true,
        "id": "DY__mNUieUei"
      },
      "execution_count": null,
      "outputs": []
    },
    {
      "cell_type": "markdown",
      "source": [
        "## Data Description\n",
        "* `COUNTRY` \t String \tCountry, territory, area\n",
        "* `ISO3` \tString\tISO Alpha-3 country code\n",
        "* `WHO_REGION`  \tString\tWHO regional offices: WHO Member States are grouped into six WHO regions: Regional Office for Africa (AFRO), Regional Office for the Americas (AMRO), Regional Office for South-East Asia (SEARO), Regional Office for Europe (EURO), Regional Office for the Eastern Mediterranean (EMRO), and Regional Office for the Western Pacific (WPRO).\n",
        "* `DATA_SOURCE` \tString\tIndicates data source: - REPORTING: Data reported by Member States, or sourced from official reports - OWID: Data sourced from Our World in Data: https://ourworldindata.org/covid-vaccinations\n",
        "* `DATE_UPDATED`\tDate\tDate of last update\n",
        "* `TOTAL_VACCINATIONS`  \tInteger\tCumulative total vaccine doses administered\n",
        "* `PERSONS_VACCINATED_1PLUS_DOSE`   \tDecimal\tCumulative number of persons vaccinated with at least one dose\n",
        "* `TOTAL_VACCINATIONS_PER100`   \tInteger\tCumulative total vaccine doses administered per 100 population\n",
        "* `PERSONS_VACCINATED_1PLUS_DOSE_PER100`\tDecimal\tCumulative persons vaccinated with at least one dose per 100 population\n",
        "* `PERSONS_FULLY_VACCINATED`\tInteger\tCumulative number of persons fully vaccinated\n",
        "* `PERSONS_FULLY_VACCINATED_PER100` \tDecimal\tCumulative number of persons fully vaccinated per 100 population\n",
        "* `VACCINES_USED`   \tString\tCombined short name of vaccine: “Company - Product name” (see below)\n",
        "* `FIRST_VACCINE_DATE`  \tDate\tDate of first vaccinations. Equivalent to start/launch date of the first vaccine administered in a country.\n",
        "* `NUMBER_VACCINES_TYPES_USED`  \tInteger\tNumber of vaccine types used per country, territory, area\n",
        "* `PERSONS_BOOSTER_ADD_DOSE`\tInteger\tPersons received booster or additional dose\n",
        "* `PERSONS_BOOSTER_ADD_DOSE_PER100` \tDecimal\tPersons received booster or additional dose per 100 population"
      ],
      "metadata": {
        "id": "3_Ibuhs2eUei"
      }
    },
    {
      "cell_type": "code",
      "source": [
        "Vaccinated.info()"
      ],
      "metadata": {
        "execution": {
          "iopub.status.busy": "2022-12-18T00:02:49.121481Z",
          "iopub.execute_input": "2022-12-18T00:02:49.122128Z",
          "iopub.status.idle": "2022-12-18T00:02:49.14352Z",
          "shell.execute_reply.started": "2022-12-18T00:02:49.122071Z",
          "shell.execute_reply": "2022-12-18T00:02:49.142024Z"
        },
        "trusted": true,
        "id": "WWcviyXJeUej"
      },
      "execution_count": null,
      "outputs": []
    },
    {
      "cell_type": "markdown",
      "source": [
        "I'd be working with just the TOTAL_VACCINATIONS,  PERSONS_FULLY_VACCINATED, PERSONS_BOOSTER_ADD_DOSE and DATE_UPDATED since vaccination helps reduce the severity of the infection and not necessarily stopping one from contracting it."
      ],
      "metadata": {
        "id": "bpsB9MKAeUej"
      }
    },
    {
      "cell_type": "code",
      "source": [
        "Vaccinated = Vaccinated[['COUNTRY', 'WHO_REGION', 'TOTAL_VACCINATIONS', 'PERSONS_FULLY_VACCINATED', 'PERSONS_BOOSTER_ADD_DOSE', 'DATE_UPDATED']]"
      ],
      "metadata": {
        "execution": {
          "iopub.status.busy": "2022-12-18T00:02:49.147107Z",
          "iopub.execute_input": "2022-12-18T00:02:49.147486Z",
          "iopub.status.idle": "2022-12-18T00:02:49.15522Z",
          "shell.execute_reply.started": "2022-12-18T00:02:49.147446Z",
          "shell.execute_reply": "2022-12-18T00:02:49.15409Z"
        },
        "trusted": true,
        "id": "4ALyYVhyeUek"
      },
      "execution_count": null,
      "outputs": []
    },
    {
      "cell_type": "code",
      "source": [
        "Vaccinated.head()"
      ],
      "metadata": {
        "execution": {
          "iopub.status.busy": "2022-12-18T00:02:49.156958Z",
          "iopub.execute_input": "2022-12-18T00:02:49.157408Z",
          "iopub.status.idle": "2022-12-18T00:02:49.179732Z",
          "shell.execute_reply.started": "2022-12-18T00:02:49.157369Z",
          "shell.execute_reply": "2022-12-18T00:02:49.178279Z"
        },
        "trusted": true,
        "id": "sR5T64pZeUek"
      },
      "execution_count": null,
      "outputs": []
    },
    {
      "cell_type": "code",
      "source": [
        "Vaccinated['DATE_UPDATED'] = pd.to_datetime(Vaccinated['DATE_UPDATED'], errors='coerce')\n",
        "\n",
        "Vaccinated['year'] = Vaccinated['DATE_UPDATED'].dt.year"
      ],
      "metadata": {
        "execution": {
          "iopub.status.busy": "2022-12-18T00:02:49.181301Z",
          "iopub.execute_input": "2022-12-18T00:02:49.181672Z",
          "iopub.status.idle": "2022-12-18T00:02:49.196809Z",
          "shell.execute_reply.started": "2022-12-18T00:02:49.181622Z",
          "shell.execute_reply": "2022-12-18T00:02:49.195469Z"
        },
        "trusted": true,
        "id": "mcizTtbeeUel"
      },
      "execution_count": null,
      "outputs": []
    },
    {
      "cell_type": "code",
      "source": [
        "Vaccinated.head()"
      ],
      "metadata": {
        "execution": {
          "iopub.status.busy": "2022-12-18T00:02:49.198573Z",
          "iopub.execute_input": "2022-12-18T00:02:49.199054Z",
          "iopub.status.idle": "2022-12-18T00:02:49.222002Z",
          "shell.execute_reply.started": "2022-12-18T00:02:49.199016Z",
          "shell.execute_reply": "2022-12-18T00:02:49.221088Z"
        },
        "trusted": true,
        "id": "Ole0OFiaeUel"
      },
      "execution_count": null,
      "outputs": []
    },
    {
      "cell_type": "code",
      "source": [
        "Total_Vaccinated = pd.DataFrame(Vaccinated.groupby(\"COUNTRY\")['TOTAL_VACCINATIONS']\n",
        "                               .agg('sum')).sort_values(by='TOTAL_VACCINATIONS',ascending=False,axis=0)\n",
        "\n",
        "Total_Vaccinated.head()"
      ],
      "metadata": {
        "execution": {
          "iopub.status.busy": "2022-12-18T00:02:49.223398Z",
          "iopub.execute_input": "2022-12-18T00:02:49.223942Z",
          "iopub.status.idle": "2022-12-18T00:02:49.245318Z",
          "shell.execute_reply.started": "2022-12-18T00:02:49.223873Z",
          "shell.execute_reply": "2022-12-18T00:02:49.243639Z"
        },
        "trusted": true,
        "id": "tjCNhzXMeUem"
      },
      "execution_count": null,
      "outputs": []
    },
    {
      "cell_type": "code",
      "source": [
        "Total_Vaccinated.head(10).plot(kind='bar',  xlabel = 'Country', ylabel = 'No. of People with Vaccinations', title = 'No of Total Vaccination')\n",
        "plt.show()\n"
      ],
      "metadata": {
        "execution": {
          "iopub.status.busy": "2022-12-18T00:02:49.246767Z",
          "iopub.execute_input": "2022-12-18T00:02:49.247076Z",
          "iopub.status.idle": "2022-12-18T00:02:49.459935Z",
          "shell.execute_reply.started": "2022-12-18T00:02:49.247048Z",
          "shell.execute_reply": "2022-12-18T00:02:49.458752Z"
        },
        "trusted": true,
        "id": "VrvrYg1GeUem"
      },
      "execution_count": null,
      "outputs": []
    },
    {
      "cell_type": "code",
      "source": [
        "Full_Vaccinated = pd.DataFrame(Vaccinated.groupby(\"COUNTRY\")['PERSONS_FULLY_VACCINATED']\n",
        "                               .agg('sum')).sort_values(by='PERSONS_FULLY_VACCINATED',ascending=False,axis=0)\n",
        "\n",
        "Full_Vaccinated.head()"
      ],
      "metadata": {
        "execution": {
          "iopub.status.busy": "2022-12-18T00:02:49.461624Z",
          "iopub.execute_input": "2022-12-18T00:02:49.462304Z",
          "iopub.status.idle": "2022-12-18T00:02:49.479616Z",
          "shell.execute_reply.started": "2022-12-18T00:02:49.462252Z",
          "shell.execute_reply": "2022-12-18T00:02:49.478347Z"
        },
        "trusted": true,
        "id": "42_odxRceUen"
      },
      "execution_count": null,
      "outputs": []
    },
    {
      "cell_type": "code",
      "source": [
        "Full_Vaccinated.head(10).plot(kind='bar',  xlabel = 'Country', ylabel = 'Fulll Vaccinated',title = 'No of People Fully Vaccinated')\n",
        "plt.show()"
      ],
      "metadata": {
        "execution": {
          "iopub.status.busy": "2022-12-18T00:02:49.481272Z",
          "iopub.execute_input": "2022-12-18T00:02:49.481906Z",
          "iopub.status.idle": "2022-12-18T00:02:49.685117Z",
          "shell.execute_reply.started": "2022-12-18T00:02:49.481867Z",
          "shell.execute_reply": "2022-12-18T00:02:49.684146Z"
        },
        "trusted": true,
        "id": "THVe3SQJeUen"
      },
      "execution_count": null,
      "outputs": []
    },
    {
      "cell_type": "code",
      "source": [
        "PERSONS_BOOSTER_ADD_DOSE = pd.DataFrame(Vaccinated.groupby(\"COUNTRY\")['PERSONS_BOOSTER_ADD_DOSE']\n",
        "                               .agg('sum')).sort_values(by='PERSONS_BOOSTER_ADD_DOSE',ascending=False,axis=0)\n",
        "\n",
        "PERSONS_BOOSTER_ADD_DOSE.head()"
      ],
      "metadata": {
        "execution": {
          "iopub.status.busy": "2022-12-18T00:02:49.686778Z",
          "iopub.execute_input": "2022-12-18T00:02:49.687131Z",
          "iopub.status.idle": "2022-12-18T00:02:49.704547Z",
          "shell.execute_reply.started": "2022-12-18T00:02:49.687096Z",
          "shell.execute_reply": "2022-12-18T00:02:49.703352Z"
        },
        "trusted": true,
        "id": "2UtpDwxveUep"
      },
      "execution_count": null,
      "outputs": []
    },
    {
      "cell_type": "code",
      "source": [
        "PERSONS_BOOSTER_ADD_DOSE.head(10).plot(kind='bar',  xlabel = 'Country', ylabel = 'No. of PERSONS with BOOSTER ADD DOSE',title = 'No of Person with the Booster ADD DOSE ')\n",
        "plt.show()"
      ],
      "metadata": {
        "execution": {
          "iopub.status.busy": "2022-12-18T00:02:49.70584Z",
          "iopub.execute_input": "2022-12-18T00:02:49.706156Z",
          "iopub.status.idle": "2022-12-18T00:02:49.912218Z",
          "shell.execute_reply.started": "2022-12-18T00:02:49.706126Z",
          "shell.execute_reply": "2022-12-18T00:02:49.911246Z"
        },
        "trusted": true,
        "id": "Vqz95yTzeUeq"
      },
      "execution_count": null,
      "outputs": []
    },
    {
      "cell_type": "code",
      "source": [
        "TOTAL_VACCINATIONS_year = pd.DataFrame(Vaccinated.groupby([\"COUNTRY\",'year'])['TOTAL_VACCINATIONS']\n",
        "                               .agg('sum')).sort_values(by=['year', 'TOTAL_VACCINATIONS'],ascending=False,axis=0)\n",
        "\n",
        "TOTAL_VACCINATIONS_year.head(10)"
      ],
      "metadata": {
        "execution": {
          "iopub.status.busy": "2022-12-18T00:02:49.9139Z",
          "iopub.execute_input": "2022-12-18T00:02:49.914234Z",
          "iopub.status.idle": "2022-12-18T00:02:49.935798Z",
          "shell.execute_reply.started": "2022-12-18T00:02:49.914201Z",
          "shell.execute_reply": "2022-12-18T00:02:49.934511Z"
        },
        "trusted": true,
        "id": "dgGN_5rMeUeq"
      },
      "execution_count": null,
      "outputs": []
    },
    {
      "cell_type": "code",
      "source": [
        "PERSONS_BOOSTER_ADD_DOSE_year = pd.DataFrame(Vaccinated.groupby([\"COUNTRY\",'year'])['PERSONS_BOOSTER_ADD_DOSE']\n",
        "                               .agg('sum')).sort_values(by=['year', 'PERSONS_BOOSTER_ADD_DOSE'],ascending=False,axis=0)\n",
        "\n",
        "PERSONS_BOOSTER_ADD_DOSE_year.head(10)"
      ],
      "metadata": {
        "execution": {
          "iopub.status.busy": "2022-12-18T00:02:49.937344Z",
          "iopub.execute_input": "2022-12-18T00:02:49.93765Z",
          "iopub.status.idle": "2022-12-18T00:02:49.958525Z",
          "shell.execute_reply.started": "2022-12-18T00:02:49.93762Z",
          "shell.execute_reply": "2022-12-18T00:02:49.957463Z"
        },
        "trusted": true,
        "id": "t8qfZxmXeUer"
      },
      "execution_count": null,
      "outputs": []
    },
    {
      "cell_type": "code",
      "source": [
        "PERSONS_FULLY_VACCINATED_year = pd.DataFrame(Vaccinated.groupby([\"COUNTRY\",'year'])['PERSONS_FULLY_VACCINATED']\n",
        "                               .agg('sum')).sort_values(by=['year', 'PERSONS_FULLY_VACCINATED'],ascending=False,axis=0)\n",
        "\n",
        "PERSONS_FULLY_VACCINATED_year.head(10)"
      ],
      "metadata": {
        "execution": {
          "iopub.status.busy": "2022-12-18T00:02:49.959909Z",
          "iopub.execute_input": "2022-12-18T00:02:49.960448Z",
          "iopub.status.idle": "2022-12-18T00:02:49.980335Z",
          "shell.execute_reply.started": "2022-12-18T00:02:49.960411Z",
          "shell.execute_reply": "2022-12-18T00:02:49.979119Z"
        },
        "trusted": true,
        "id": "SjvkyhkHeUer"
      },
      "execution_count": null,
      "outputs": []
    },
    {
      "cell_type": "code",
      "source": [
        "Vaccinated['year'].unique()"
      ],
      "metadata": {
        "execution": {
          "iopub.status.busy": "2022-12-18T00:02:49.981727Z",
          "iopub.execute_input": "2022-12-18T00:02:49.982068Z",
          "iopub.status.idle": "2022-12-18T00:02:49.990185Z",
          "shell.execute_reply.started": "2022-12-18T00:02:49.982035Z",
          "shell.execute_reply": "2022-12-18T00:02:49.988901Z"
        },
        "trusted": true,
        "id": "yKYbXNTLeUes"
      },
      "execution_count": null,
      "outputs": []
    },
    {
      "cell_type": "code",
      "source": [
        "Vaccinated_cases_2021 = Vaccinated[Vaccinated['year']== 2021]\n",
        "\n",
        "Vaccinated_cases_2021.head()"
      ],
      "metadata": {
        "execution": {
          "iopub.status.busy": "2022-12-18T00:02:49.992153Z",
          "iopub.execute_input": "2022-12-18T00:02:49.992626Z",
          "iopub.status.idle": "2022-12-18T00:02:50.0145Z",
          "shell.execute_reply.started": "2022-12-18T00:02:49.992573Z",
          "shell.execute_reply": "2022-12-18T00:02:50.012981Z"
        },
        "trusted": true,
        "id": "Ufn3hxY7eUes"
      },
      "execution_count": null,
      "outputs": []
    },
    {
      "cell_type": "code",
      "source": [
        "TOTAL_VACCINATIONS_year_2021 = pd.DataFrame(Vaccinated_cases_2021.groupby([\"COUNTRY\",'year'])['TOTAL_VACCINATIONS']\n",
        "                               .agg('sum')).sort_values(by=['year', 'TOTAL_VACCINATIONS'],ascending=False,axis=0)\n",
        "\n",
        "TOTAL_VACCINATIONS_year_2021.head(10)"
      ],
      "metadata": {
        "execution": {
          "iopub.status.busy": "2022-12-18T00:02:50.016771Z",
          "iopub.execute_input": "2022-12-18T00:02:50.017556Z",
          "iopub.status.idle": "2022-12-18T00:02:50.043616Z",
          "shell.execute_reply.started": "2022-12-18T00:02:50.017431Z",
          "shell.execute_reply": "2022-12-18T00:02:50.042337Z"
        },
        "trusted": true,
        "id": "U0G1s0kweUet"
      },
      "execution_count": null,
      "outputs": []
    },
    {
      "cell_type": "code",
      "source": [
        "PERSONS_BOOSTER_ADD_DOSE_year_2021 = pd.DataFrame(Vaccinated_cases_2021.groupby([\"COUNTRY\",'year'])['PERSONS_BOOSTER_ADD_DOSE']\n",
        "                               .agg('sum')).sort_values(by=['year', 'PERSONS_BOOSTER_ADD_DOSE'],ascending=False,axis=0)\n",
        "\n",
        "PERSONS_BOOSTER_ADD_DOSE_year_2021.head(10)"
      ],
      "metadata": {
        "execution": {
          "iopub.status.busy": "2022-12-18T00:02:50.04584Z",
          "iopub.execute_input": "2022-12-18T00:02:50.04656Z",
          "iopub.status.idle": "2022-12-18T00:02:50.06731Z",
          "shell.execute_reply.started": "2022-12-18T00:02:50.046513Z",
          "shell.execute_reply": "2022-12-18T00:02:50.066191Z"
        },
        "trusted": true,
        "id": "t78QTqX9eUet"
      },
      "execution_count": null,
      "outputs": []
    },
    {
      "cell_type": "markdown",
      "source": [
        "#### Obviously there should be none since the case of taking boosters started in 2022"
      ],
      "metadata": {
        "id": "AUNHgkhKeUeu"
      }
    },
    {
      "cell_type": "code",
      "source": [
        "PERSONS_FULLY_VACCINATED_year_2021 = pd.DataFrame(Vaccinated_cases_2021.groupby([\"COUNTRY\",'year'])['PERSONS_FULLY_VACCINATED']\n",
        "                               .agg('sum')).sort_values(by=['year', 'PERSONS_FULLY_VACCINATED'],ascending=False,axis=0)\n",
        "\n",
        "PERSONS_FULLY_VACCINATED_year_2021.head(10)"
      ],
      "metadata": {
        "execution": {
          "iopub.status.busy": "2022-12-18T00:02:50.069634Z",
          "iopub.execute_input": "2022-12-18T00:02:50.070222Z",
          "iopub.status.idle": "2022-12-18T00:02:50.090559Z",
          "shell.execute_reply.started": "2022-12-18T00:02:50.070169Z",
          "shell.execute_reply": "2022-12-18T00:02:50.089599Z"
        },
        "trusted": true,
        "id": "2pBzvficeUev"
      },
      "execution_count": null,
      "outputs": []
    },
    {
      "cell_type": "markdown",
      "source": [
        "At 2021 citizens of Bonaire, Sint Eustatius and Saba and Saint Helena are the only ones that have fully vaccinated people.  "
      ],
      "metadata": {
        "id": "fSEY9C2OeUew"
      }
    },
    {
      "cell_type": "code",
      "source": [
        "Vaccinated_cases_2022 = Vaccinated[Vaccinated['year']== 2022]\n",
        "\n",
        "Vaccinated_cases_2022.head()"
      ],
      "metadata": {
        "execution": {
          "iopub.status.busy": "2022-12-18T00:02:50.091833Z",
          "iopub.execute_input": "2022-12-18T00:02:50.092289Z",
          "iopub.status.idle": "2022-12-18T00:02:50.114666Z",
          "shell.execute_reply.started": "2022-12-18T00:02:50.092257Z",
          "shell.execute_reply": "2022-12-18T00:02:50.113437Z"
        },
        "trusted": true,
        "id": "JL23Pf7aeUew"
      },
      "execution_count": null,
      "outputs": []
    },
    {
      "cell_type": "code",
      "source": [
        "TOTAL_VACCINATIONS_year_2022 = pd.DataFrame(Vaccinated_cases_2022.groupby([\"COUNTRY\",'year'])['TOTAL_VACCINATIONS']\n",
        "                               .agg('sum')).sort_values(by=['year', 'TOTAL_VACCINATIONS'],ascending=False,axis=0)\n",
        "\n",
        "TOTAL_VACCINATIONS_year_2022.head(10)"
      ],
      "metadata": {
        "execution": {
          "iopub.status.busy": "2022-12-18T00:02:50.116636Z",
          "iopub.execute_input": "2022-12-18T00:02:50.116999Z",
          "iopub.status.idle": "2022-12-18T00:02:50.138Z",
          "shell.execute_reply.started": "2022-12-18T00:02:50.116957Z",
          "shell.execute_reply": "2022-12-18T00:02:50.136517Z"
        },
        "trusted": true,
        "id": "sXkrSjADeUex"
      },
      "execution_count": null,
      "outputs": []
    },
    {
      "cell_type": "code",
      "source": [
        "PERSONS_BOOSTER_ADD_DOSE_year_2022 = pd.DataFrame(Vaccinated_cases_2022.groupby([\"COUNTRY\",'year'])['PERSONS_BOOSTER_ADD_DOSE']\n",
        "                               .agg('sum')).sort_values(by=['year', 'PERSONS_BOOSTER_ADD_DOSE'],ascending=False,axis=0)\n",
        "\n",
        "PERSONS_BOOSTER_ADD_DOSE_year_2022.head(10)"
      ],
      "metadata": {
        "execution": {
          "iopub.status.busy": "2022-12-18T00:02:50.13941Z",
          "iopub.execute_input": "2022-12-18T00:02:50.13972Z",
          "iopub.status.idle": "2022-12-18T00:02:50.16062Z",
          "shell.execute_reply.started": "2022-12-18T00:02:50.13969Z",
          "shell.execute_reply": "2022-12-18T00:02:50.159704Z"
        },
        "trusted": true,
        "id": "RQMl1GIreUex"
      },
      "execution_count": null,
      "outputs": []
    },
    {
      "cell_type": "markdown",
      "source": [
        "#### We started collecting the booster dose in early 2022 since we need more doses to keep us immune from the virus"
      ],
      "metadata": {
        "id": "wgcTX0rpeUey"
      }
    },
    {
      "cell_type": "code",
      "source": [
        "PERSONS_FULLY_VACCINATED_year_2022 = pd.DataFrame(Vaccinated_cases_2022.groupby([\"COUNTRY\",'year'])['PERSONS_FULLY_VACCINATED']\n",
        "                               .agg('sum')).sort_values(by=['year', 'PERSONS_FULLY_VACCINATED'],ascending=False,axis=0)\n",
        "\n",
        "PERSONS_FULLY_VACCINATED_year_2022.head(10)"
      ],
      "metadata": {
        "execution": {
          "iopub.status.busy": "2022-12-18T00:02:50.162069Z",
          "iopub.execute_input": "2022-12-18T00:02:50.162378Z",
          "iopub.status.idle": "2022-12-18T00:02:50.182832Z",
          "shell.execute_reply.started": "2022-12-18T00:02:50.162347Z",
          "shell.execute_reply": "2022-12-18T00:02:50.181567Z"
        },
        "trusted": true,
        "id": "4UDCxwI9eUey"
      },
      "execution_count": null,
      "outputs": []
    },
    {
      "cell_type": "markdown",
      "source": [
        "## Conclusion\n",
        "\n",
        "In this analysis, we've learned how China, despite its population, was able to vaccinate most of its citizens, which helped reduce the number of deaths and COVID cases in recent times and cumulatively, and India seems to be impressive too.\n",
        "We also know that the `USA` has the most cases worldwide.\n",
        "`Brazil` has the most cases in South America.\n",
        "`India` has the most cases in Asia."
      ],
      "metadata": {
        "id": "PSBiS5aBeUez"
      }
    }
  ]
}